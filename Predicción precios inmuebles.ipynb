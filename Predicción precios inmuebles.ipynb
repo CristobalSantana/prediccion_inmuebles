{
 "cells": [
  {
   "cell_type": "markdown",
   "id": "8b9cdddc",
   "metadata": {},
   "source": [
    "# Predicción precios inmuebles"
   ]
  },
  {
   "cell_type": "markdown",
   "id": "b8737f2c",
   "metadata": {},
   "source": [
    "## Problema: \n",
    "\n",
    "En esta prueba se busca evaluar la capacidad de analizar una base de datos, realizar las transformaciones necesarias, generar un modelo predictivo y evaluar su rendimiento. Para esto se usará una base de datos de ofertas inmobiliarias con variables de la propiedad, variables de las zona, y algunas variables de cercanias a colegios y farmacias. La base se encuentra disponible en LINK y contiene las variables."
   ]
  },
  {
   "cell_type": "markdown",
   "id": "7e171285",
   "metadata": {},
   "source": [
    "## Objetivo general:\n",
    "    \n",
    "Predecir el precio de oferta de la propiedad a partir del resto de las variables seleccionadas, pudiendose crear más variables si así lo estiman necesario."
   ]
  },
  {
   "cell_type": "markdown",
   "id": "a55cbc39",
   "metadata": {},
   "source": [
    "### Solución al problema: \n",
    "\n",
    "Se limpiaron los datos, se cambiaron las variables categóricas a numéricas para luego quedarnos sólo con las numéricas y eliminar las columnas que no aportaban información. Una vez se obtuvieron columnas numéricas se utilizaron distintos tipos de gráficos para realizar un análisis exploratorio de los datos (EDA) y con eso entender de mejor forma los datos y cómo se relacionan las variables con la columna 'precio_f'. Por medio de la matriz de correlación se encontró linealidad en los datos y usando PCA (análisis de componentes principales) se encontró que todos los datos aportan la misma información al problema. Como es un problema de regresión, se utilizaron modelos de regresiones para predecir el precio (un modelo de regresión lineal y 3 de ensemble). Para nuestro caso se probaron distintos modelos y el que mejor rendimiento tuvo fue XGBRegressor con un error del 8.05% para la métrica R2 y 8.04%explained variance score. Finalmente, se simuló un caso nuevo, con nuevos registros para ver la predicción del precio, este fue de 1.99e+08."
   ]
  },
  {
   "cell_type": "markdown",
   "id": "7ec4353b",
   "metadata": {},
   "source": [
    "## Descripción de las variables:\n",
    "\n",
    "* ID_LOCALIDAD: ID de la división administrativa LOCALIDAD\n",
    "* ID_DISTRITO: ID de la división administrativa DISTRITO\n",
    "* ID_COMUNA: ID de la división administrativa COMUNA\n",
    "* lat: Latitud\n",
    "* lng: Longitud\n",
    "* precio_f: Precio de oferta de la propiedad\n",
    "* region: Región donde se encuentra la propiedad\n",
    "* tipo: Tipo de propiedad\n",
    "* direccion: Dirección\n",
    "* descripcion: Descripción\n",
    "* sup_total: Superficie Total\n",
    "* sup_util: Superficie Útil\n",
    "* dormitorios: Dormitorios\n",
    "* banos: Baños\n",
    "* antiguedad: Antigüedad\n",
    "* bodegas: Bodegas\n",
    "* min_dist_col: Distancia mínima a un colegio\n",
    "* n_col: Número de colegios a 1 kilometro\n",
    "* mean_dist_col: Distancia promedio a los colegios cercanos\n",
    "* min_dist_farm: Distancia mínima a una farmacia\n",
    "* n_farm: Número de farmacias a 1 kilometro\n",
    "* mean_dist_farm: Distancia promedio a farmacias cercanas\n",
    "* RH_PERLLEG4: % de personas en la zona de la propiedad que si nació en otro país, llegó antes de 1990\n",
    "* CNV_MONPAGVIVP: Promedio Monto de pago por concepto de arriendo o dividendo en la zona de la propiedad\n",
    "* CNH_INGTOTP: Promedio del ingreso total del hogar corregido en la zona de la propiedad\n",
    "* CNRH_INGOCUP: Promedio del ingreso ocupación principal"
   ]
  },
  {
   "cell_type": "markdown",
   "id": "88cde31f",
   "metadata": {},
   "source": [
    "## 1. Lectura e inspección de base\n",
    "\n",
    "Primero se deberá leer el archivo y verificar la cantidad de registros, variables y el formato de estas"
   ]
  },
  {
   "cell_type": "code",
   "execution_count": 1,
   "id": "5377e847",
   "metadata": {},
   "outputs": [],
   "source": [
    "import pandas as pd\n",
    "import matplotlib.pyplot as plt\n",
    "import seaborn as sns\n",
    "from sklearn.decomposition import PCA\n",
    "import numpy as np"
   ]
  },
  {
   "cell_type": "code",
   "execution_count": 2,
   "id": "e59f0ea8",
   "metadata": {},
   "outputs": [
    {
     "data": {
      "text/html": [
       "<div>\n",
       "<style scoped>\n",
       "    .dataframe tbody tr th:only-of-type {\n",
       "        vertical-align: middle;\n",
       "    }\n",
       "\n",
       "    .dataframe tbody tr th {\n",
       "        vertical-align: top;\n",
       "    }\n",
       "\n",
       "    .dataframe thead th {\n",
       "        text-align: right;\n",
       "    }\n",
       "</style>\n",
       "<table border=\"1\" class=\"dataframe\">\n",
       "  <thead>\n",
       "    <tr style=\"text-align: right;\">\n",
       "      <th></th>\n",
       "      <th>ID_LOCALIDAD</th>\n",
       "      <th>ID_DISTRITO</th>\n",
       "      <th>ID_COMUNA</th>\n",
       "      <th>lat</th>\n",
       "      <th>lng</th>\n",
       "      <th>precio_f</th>\n",
       "      <th>region</th>\n",
       "      <th>tipo</th>\n",
       "      <th>direccion</th>\n",
       "      <th>descripcion</th>\n",
       "      <th>sup_total</th>\n",
       "      <th>sup_util</th>\n",
       "      <th>dormitorios</th>\n",
       "      <th>banos</th>\n",
       "      <th>antiguedad</th>\n",
       "      <th>bodegas</th>\n",
       "      <th>min_dist_col</th>\n",
       "      <th>n_col</th>\n",
       "      <th>mean_dist_col</th>\n",
       "      <th>min_dist_farm</th>\n",
       "      <th>n_farm</th>\n",
       "      <th>mean_dist_farm</th>\n",
       "      <th>RH_PERLLEG4</th>\n",
       "      <th>CNV_MONPAGVIVP</th>\n",
       "      <th>CNH_INGTOTP</th>\n",
       "      <th>CNRH_INGOCUP</th>\n",
       "    </tr>\n",
       "  </thead>\n",
       "  <tbody>\n",
       "    <tr>\n",
       "      <th>0</th>\n",
       "      <td>6101011001</td>\n",
       "      <td>610101</td>\n",
       "      <td>6101</td>\n",
       "      <td>6.217611e+06</td>\n",
       "      <td>339568.959064</td>\n",
       "      <td>410000000.0</td>\n",
       "      <td>bernardo-ohiggins</td>\n",
       "      <td>casa</td>\n",
       "      <td>San Ramon</td>\n",
       "      <td>Nieny Vende  hermosa parcela de 5 000 mts2 ...</td>\n",
       "      <td>5000.0</td>\n",
       "      <td>180.0</td>\n",
       "      <td>4.0</td>\n",
       "      <td>2.0</td>\n",
       "      <td>NaN</td>\n",
       "      <td>NaN</td>\n",
       "      <td>89.873939</td>\n",
       "      <td>10</td>\n",
       "      <td>525.003210</td>\n",
       "      <td>112.960689</td>\n",
       "      <td>10</td>\n",
       "      <td>409.401279</td>\n",
       "      <td>0.002729</td>\n",
       "      <td>182798.16</td>\n",
       "      <td>1025098.46</td>\n",
       "      <td>588102.78</td>\n",
       "    </tr>\n",
       "    <tr>\n",
       "      <th>1</th>\n",
       "      <td>6101011001</td>\n",
       "      <td>610101</td>\n",
       "      <td>6101</td>\n",
       "      <td>6.217611e+06</td>\n",
       "      <td>339569.178969</td>\n",
       "      <td>186657380.0</td>\n",
       "      <td>bernardo-ohiggins</td>\n",
       "      <td>casa</td>\n",
       "      <td>El Olivar 1   Casa 2</td>\n",
       "      <td>Estupenda casa con lindo jard n  piscina   ...</td>\n",
       "      <td>3850.0</td>\n",
       "      <td>260.0</td>\n",
       "      <td>4.0</td>\n",
       "      <td>3.0</td>\n",
       "      <td>NaN</td>\n",
       "      <td>NaN</td>\n",
       "      <td>90.242446</td>\n",
       "      <td>10</td>\n",
       "      <td>525.044718</td>\n",
       "      <td>113.333612</td>\n",
       "      <td>10</td>\n",
       "      <td>409.654368</td>\n",
       "      <td>0.002729</td>\n",
       "      <td>182798.16</td>\n",
       "      <td>1025098.46</td>\n",
       "      <td>588102.78</td>\n",
       "    </tr>\n",
       "    <tr>\n",
       "      <th>2</th>\n",
       "      <td>6101031001</td>\n",
       "      <td>610103</td>\n",
       "      <td>6101</td>\n",
       "      <td>6.217980e+06</td>\n",
       "      <td>338698.268899</td>\n",
       "      <td>35000000.0</td>\n",
       "      <td>bernardo-ohiggins</td>\n",
       "      <td>casa</td>\n",
       "      <td>Altazor 01620</td>\n",
       "      <td>Casa de dos pisos  con muy buenas ampliacio...</td>\n",
       "      <td>120.0</td>\n",
       "      <td>98.0</td>\n",
       "      <td>3.0</td>\n",
       "      <td>1.0</td>\n",
       "      <td>NaN</td>\n",
       "      <td>NaN</td>\n",
       "      <td>621.683357</td>\n",
       "      <td>5</td>\n",
       "      <td>771.829938</td>\n",
       "      <td>112.930782</td>\n",
       "      <td>10</td>\n",
       "      <td>575.718592</td>\n",
       "      <td>0.004479</td>\n",
       "      <td>158218.36</td>\n",
       "      <td>759789.81</td>\n",
       "      <td>373339.76</td>\n",
       "    </tr>\n",
       "    <tr>\n",
       "      <th>3</th>\n",
       "      <td>6101031001</td>\n",
       "      <td>610103</td>\n",
       "      <td>6101</td>\n",
       "      <td>6.217980e+06</td>\n",
       "      <td>338698.268899</td>\n",
       "      <td>55000000.0</td>\n",
       "      <td>bernardo-ohiggins</td>\n",
       "      <td>casa</td>\n",
       "      <td>El Arado  1518</td>\n",
       "      <td>EXCELENTE OPORTUNIDAD DE INVERSI NHermosa p...</td>\n",
       "      <td>110.0</td>\n",
       "      <td>100.0</td>\n",
       "      <td>4.0</td>\n",
       "      <td>2.0</td>\n",
       "      <td>NaN</td>\n",
       "      <td>NaN</td>\n",
       "      <td>621.683357</td>\n",
       "      <td>5</td>\n",
       "      <td>771.829938</td>\n",
       "      <td>112.930782</td>\n",
       "      <td>10</td>\n",
       "      <td>575.718592</td>\n",
       "      <td>0.004479</td>\n",
       "      <td>158218.36</td>\n",
       "      <td>759789.81</td>\n",
       "      <td>373339.76</td>\n",
       "    </tr>\n",
       "    <tr>\n",
       "      <th>4</th>\n",
       "      <td>6101031001</td>\n",
       "      <td>610103</td>\n",
       "      <td>6101</td>\n",
       "      <td>6.218012e+06</td>\n",
       "      <td>338689.990298</td>\n",
       "      <td>272806940.0</td>\n",
       "      <td>bernardo-ohiggins</td>\n",
       "      <td>casa</td>\n",
       "      <td>Calle Uni n Obrera   Campos</td>\n",
       "      <td>Estupenda casa  construcci n completamente ...</td>\n",
       "      <td>1100.0</td>\n",
       "      <td>169.0</td>\n",
       "      <td>4.0</td>\n",
       "      <td>2.0</td>\n",
       "      <td>NaN</td>\n",
       "      <td>NaN</td>\n",
       "      <td>632.800837</td>\n",
       "      <td>5</td>\n",
       "      <td>787.188282</td>\n",
       "      <td>114.359442</td>\n",
       "      <td>10</td>\n",
       "      <td>619.686775</td>\n",
       "      <td>0.004479</td>\n",
       "      <td>158218.36</td>\n",
       "      <td>759789.81</td>\n",
       "      <td>373339.76</td>\n",
       "    </tr>\n",
       "  </tbody>\n",
       "</table>\n",
       "</div>"
      ],
      "text/plain": [
       "   ID_LOCALIDAD  ID_DISTRITO  ID_COMUNA           lat            lng  \\\n",
       "0    6101011001       610101       6101  6.217611e+06  339568.959064   \n",
       "1    6101011001       610101       6101  6.217611e+06  339569.178969   \n",
       "2    6101031001       610103       6101  6.217980e+06  338698.268899   \n",
       "3    6101031001       610103       6101  6.217980e+06  338698.268899   \n",
       "4    6101031001       610103       6101  6.218012e+06  338689.990298   \n",
       "\n",
       "      precio_f             region  tipo                    direccion  \\\n",
       "0  410000000.0  bernardo-ohiggins  casa                    San Ramon   \n",
       "1  186657380.0  bernardo-ohiggins  casa         El Olivar 1   Casa 2   \n",
       "2   35000000.0  bernardo-ohiggins  casa                Altazor 01620   \n",
       "3   55000000.0  bernardo-ohiggins  casa               El Arado  1518   \n",
       "4  272806940.0  bernardo-ohiggins  casa  Calle Uni n Obrera   Campos   \n",
       "\n",
       "                                         descripcion  sup_total  sup_util  \\\n",
       "0     Nieny Vende  hermosa parcela de 5 000 mts2 ...     5000.0     180.0   \n",
       "1     Estupenda casa con lindo jard n  piscina   ...     3850.0     260.0   \n",
       "2     Casa de dos pisos  con muy buenas ampliacio...      120.0      98.0   \n",
       "3     EXCELENTE OPORTUNIDAD DE INVERSI NHermosa p...      110.0     100.0   \n",
       "4     Estupenda casa  construcci n completamente ...     1100.0     169.0   \n",
       "\n",
       "   dormitorios  banos  antiguedad  bodegas  min_dist_col  n_col  \\\n",
       "0          4.0    2.0         NaN      NaN     89.873939     10   \n",
       "1          4.0    3.0         NaN      NaN     90.242446     10   \n",
       "2          3.0    1.0         NaN      NaN    621.683357      5   \n",
       "3          4.0    2.0         NaN      NaN    621.683357      5   \n",
       "4          4.0    2.0         NaN      NaN    632.800837      5   \n",
       "\n",
       "   mean_dist_col  min_dist_farm  n_farm  mean_dist_farm  RH_PERLLEG4  \\\n",
       "0     525.003210     112.960689      10      409.401279     0.002729   \n",
       "1     525.044718     113.333612      10      409.654368     0.002729   \n",
       "2     771.829938     112.930782      10      575.718592     0.004479   \n",
       "3     771.829938     112.930782      10      575.718592     0.004479   \n",
       "4     787.188282     114.359442      10      619.686775     0.004479   \n",
       "\n",
       "   CNV_MONPAGVIVP  CNH_INGTOTP  CNRH_INGOCUP  \n",
       "0       182798.16   1025098.46     588102.78  \n",
       "1       182798.16   1025098.46     588102.78  \n",
       "2       158218.36    759789.81     373339.76  \n",
       "3       158218.36    759789.81     373339.76  \n",
       "4       158218.36    759789.81     373339.76  "
      ]
     },
     "execution_count": 2,
     "metadata": {},
     "output_type": "execute_result"
    }
   ],
   "source": [
    "df=pd.read_csv('base_prueba.csv', sep=';')\n",
    "pd.set_option(\"display.max_columns\", None)\n",
    "df.head()"
   ]
  },
  {
   "cell_type": "code",
   "execution_count": 3,
   "id": "b5a4584a",
   "metadata": {},
   "outputs": [
    {
     "name": "stdout",
     "output_type": "stream",
     "text": [
      "ID_LOCALIDAD        int64\n",
      "ID_DISTRITO         int64\n",
      "ID_COMUNA           int64\n",
      "lat               float64\n",
      "lng               float64\n",
      "precio_f          float64\n",
      "region             object\n",
      "tipo               object\n",
      "direccion          object\n",
      "descripcion        object\n",
      "sup_total         float64\n",
      "sup_util          float64\n",
      "dormitorios       float64\n",
      "banos             float64\n",
      "antiguedad        float64\n",
      "bodegas           float64\n",
      "min_dist_col      float64\n",
      "n_col               int64\n",
      "mean_dist_col     float64\n",
      "min_dist_farm     float64\n",
      "n_farm              int64\n",
      "mean_dist_farm    float64\n",
      "RH_PERLLEG4       float64\n",
      "CNV_MONPAGVIVP    float64\n",
      "CNH_INGTOTP       float64\n",
      "CNRH_INGOCUP      float64\n",
      "dtype: object\n"
     ]
    }
   ],
   "source": [
    "print(df.dtypes)"
   ]
  },
  {
   "cell_type": "code",
   "execution_count": 4,
   "id": "0afe1461",
   "metadata": {},
   "outputs": [
    {
     "data": {
      "text/plain": [
       "ID_LOCALIDAD      37768\n",
       "ID_DISTRITO       37768\n",
       "ID_COMUNA         37768\n",
       "lat               37768\n",
       "lng               37768\n",
       "precio_f          37768\n",
       "region            37768\n",
       "tipo              37768\n",
       "direccion         37734\n",
       "descripcion       37672\n",
       "sup_total         37768\n",
       "sup_util          37600\n",
       "dormitorios       37617\n",
       "banos             37514\n",
       "antiguedad         1149\n",
       "bodegas            1441\n",
       "min_dist_col      37768\n",
       "n_col             37768\n",
       "mean_dist_col     31558\n",
       "min_dist_farm     37768\n",
       "n_farm            37768\n",
       "mean_dist_farm    28930\n",
       "RH_PERLLEG4       37768\n",
       "CNV_MONPAGVIVP    37709\n",
       "CNH_INGTOTP       37768\n",
       "CNRH_INGOCUP      37768\n",
       "dtype: int64"
      ]
     },
     "execution_count": 4,
     "metadata": {},
     "output_type": "execute_result"
    }
   ],
   "source": [
    "df.count()"
   ]
  },
  {
   "cell_type": "code",
   "execution_count": 5,
   "id": "484ba3c7",
   "metadata": {},
   "outputs": [
    {
     "name": "stdout",
     "output_type": "stream",
     "text": [
      "(37768, 26)\n"
     ]
    }
   ],
   "source": [
    "print(df.shape) "
   ]
  },
  {
   "cell_type": "markdown",
   "id": "b27ec277",
   "metadata": {},
   "source": [
    "### 1.1 \n",
    "Vemos que el df tiene un total de 37768 filas y 26 columnas. También se obtuvo la cantidad de datos por columna para poder identificar cuáles columnas poseen mayor cantidad de datos NaN ('antiguedad' y 'bodegas'). Por último, por medio de df.head() podemos ver que hay datos de dos tipos: categóricos y numéricos. Por lo que para hacer una estimación de precios y por el tipo de modelo que usaré, pasaremos las variables categóricas a numéricas."
   ]
  },
  {
   "cell_type": "markdown",
   "id": "82d760b3",
   "metadata": {},
   "source": [
    "## 2. Análisis descriptivo\n",
    "\n",
    "Realizar el análisis descriptivo que estimen pertinente de acuerdo al problema descrito. Este debe ayudarles a tomar algunas decisiones sobre que variables servirán, cuales hay que transformar, registros a omitir, etc. Jumbitos extra a visualizaciones útiles e interesantes.\n"
   ]
  },
  {
   "cell_type": "markdown",
   "id": "2b7dce40",
   "metadata": {},
   "source": [
    "### 2.1 \n",
    "Antes de pasar las variables categóricas a numéricas, debemos asegurarnos de cuántos tipos de datos existen, una vez hecho esto, pasaremos las columnas categóricas 'tipo' y 'región' a numéricas. Para la columna 'tipo', será 1 en caso de ser 'casa' y 0 en caso contrario. Para 'region' será 1 en caso de ser 'RM' y 0 en caso contrario"
   ]
  },
  {
   "cell_type": "code",
   "execution_count": 6,
   "id": "f28a0336",
   "metadata": {},
   "outputs": [
    {
     "data": {
      "text/plain": [
       "array(['casa', 'depa'], dtype=object)"
      ]
     },
     "execution_count": 6,
     "metadata": {},
     "output_type": "execute_result"
    }
   ],
   "source": [
    "df['tipo'].unique()"
   ]
  },
  {
   "cell_type": "code",
   "execution_count": 7,
   "id": "9cfbe514",
   "metadata": {},
   "outputs": [
    {
     "data": {
      "text/plain": [
       "array(['bernardo-ohiggins', 'RM'], dtype=object)"
      ]
     },
     "execution_count": 7,
     "metadata": {},
     "output_type": "execute_result"
    }
   ],
   "source": [
    "df['region'].unique()"
   ]
  },
  {
   "cell_type": "code",
   "execution_count": 8,
   "id": "29fda628",
   "metadata": {},
   "outputs": [],
   "source": [
    "df['tipo_num']=np.where(df['tipo']=='casa' ,1, 0)"
   ]
  },
  {
   "cell_type": "code",
   "execution_count": 9,
   "id": "13776054",
   "metadata": {},
   "outputs": [],
   "source": [
    "df['region_num']=np.where(df['region']=='RM' ,1, 0)"
   ]
  },
  {
   "cell_type": "markdown",
   "id": "0f1aa8c9",
   "metadata": {},
   "source": [
    "### 2.2 \n",
    "Contamos los valores NaN y cuáles son las columnas que más registros de este tipo (se intentará abarcar la mayoría)"
   ]
  },
  {
   "cell_type": "code",
   "execution_count": 10,
   "id": "d23f9e7c",
   "metadata": {},
   "outputs": [
    {
     "data": {
      "text/plain": [
       "88756"
      ]
     },
     "execution_count": 10,
     "metadata": {},
     "output_type": "execute_result"
    }
   ],
   "source": [
    "df.isna().sum().sum()"
   ]
  },
  {
   "cell_type": "markdown",
   "id": "a8728b28",
   "metadata": {},
   "source": [
    "### 2.2 \n",
    "Existe un total de 88756 registros con valores NaN. Como anteriormente vimos que la mayoria debería estar en las columnas 'antiguedad' y 'bodegas', veremos si esa hipótesis se confirma:"
   ]
  },
  {
   "cell_type": "code",
   "execution_count": 11,
   "id": "a39b5a58",
   "metadata": {},
   "outputs": [
    {
     "data": {
      "text/plain": [
       "36619"
      ]
     },
     "execution_count": 11,
     "metadata": {},
     "output_type": "execute_result"
    }
   ],
   "source": [
    "df['antiguedad'].isna().sum()"
   ]
  },
  {
   "cell_type": "code",
   "execution_count": 12,
   "id": "76183774",
   "metadata": {},
   "outputs": [
    {
     "data": {
      "text/plain": [
       "36327"
      ]
     },
     "execution_count": 12,
     "metadata": {},
     "output_type": "execute_result"
    }
   ],
   "source": [
    "df['bodegas'].isna().sum()"
   ]
  },
  {
   "cell_type": "markdown",
   "id": "adc336b1",
   "metadata": {},
   "source": [
    "### 2.2 \n",
    "Entre ambas columnas tenemos un total de 72946. Siguiendo con la lógica anterior, veremos las columnas que tienen el resto de valores NaN o su mayoría:"
   ]
  },
  {
   "cell_type": "code",
   "execution_count": 13,
   "id": "1e60494a",
   "metadata": {},
   "outputs": [
    {
     "data": {
      "text/plain": [
       "8838"
      ]
     },
     "execution_count": 13,
     "metadata": {},
     "output_type": "execute_result"
    }
   ],
   "source": [
    "df['mean_dist_farm'].isna().sum()"
   ]
  },
  {
   "cell_type": "code",
   "execution_count": 14,
   "id": "951d4b02",
   "metadata": {},
   "outputs": [
    {
     "data": {
      "text/plain": [
       "6210"
      ]
     },
     "execution_count": 14,
     "metadata": {},
     "output_type": "execute_result"
    }
   ],
   "source": [
    "df['mean_dist_col'].isna().sum() "
   ]
  },
  {
   "cell_type": "markdown",
   "id": "ecaa1e84",
   "metadata": {},
   "source": [
    "### 2.3 \n",
    "Hasta aquí hay 87994 valores NaN, por lo que encontramos la mayoría de estos valores. Debido a que la mayoría está en las columnas 'antiguedad' y 'bodegas' , estas no entregan información del problema, por lo que se usará drop para eliminarlas. Por otra parte, también se eliminarán las columnas 'descripcion', debido a que no hay referencias de si esa descripción es verdadera o falsa, se eliminará 'direccion' debido a que esa información está de manera numérica en  ID_LOCALIDAD, ID_DISTRITO, ID_COMUNA, lat y lng. Se podrían usar variables tipo dummy para 'dirreccion', pero debido a que se quiere usar PCA y la matriz de correlación para obtener más información, para este caso se prioriza la interpretación de las variables. Por último, antes de eliminar las variables categóricas 'tipo' y 'region' para quedarnos solo con columnas numéricas, se realizarán gráficos para poder explicar los datos y luego se eliminarán."
   ]
  },
  {
   "cell_type": "code",
   "execution_count": 15,
   "id": "5e02fa26",
   "metadata": {},
   "outputs": [],
   "source": [
    "df=df.fillna(0)\n",
    "df=df.drop(columns=['antiguedad', 'bodegas','descripcion','direccion'])"
   ]
  },
  {
   "cell_type": "code",
   "execution_count": 16,
   "id": "5d67098b",
   "metadata": {},
   "outputs": [
    {
     "data": {
      "text/html": [
       "<div>\n",
       "<style scoped>\n",
       "    .dataframe tbody tr th:only-of-type {\n",
       "        vertical-align: middle;\n",
       "    }\n",
       "\n",
       "    .dataframe tbody tr th {\n",
       "        vertical-align: top;\n",
       "    }\n",
       "\n",
       "    .dataframe thead th {\n",
       "        text-align: right;\n",
       "    }\n",
       "</style>\n",
       "<table border=\"1\" class=\"dataframe\">\n",
       "  <thead>\n",
       "    <tr style=\"text-align: right;\">\n",
       "      <th></th>\n",
       "      <th>ID_LOCALIDAD</th>\n",
       "      <th>ID_DISTRITO</th>\n",
       "      <th>ID_COMUNA</th>\n",
       "      <th>lat</th>\n",
       "      <th>lng</th>\n",
       "      <th>precio_f</th>\n",
       "      <th>region</th>\n",
       "      <th>tipo</th>\n",
       "      <th>sup_total</th>\n",
       "      <th>sup_util</th>\n",
       "      <th>dormitorios</th>\n",
       "      <th>banos</th>\n",
       "      <th>min_dist_col</th>\n",
       "      <th>n_col</th>\n",
       "      <th>mean_dist_col</th>\n",
       "      <th>min_dist_farm</th>\n",
       "      <th>n_farm</th>\n",
       "      <th>mean_dist_farm</th>\n",
       "      <th>RH_PERLLEG4</th>\n",
       "      <th>CNV_MONPAGVIVP</th>\n",
       "      <th>CNH_INGTOTP</th>\n",
       "      <th>CNRH_INGOCUP</th>\n",
       "      <th>tipo_num</th>\n",
       "      <th>region_num</th>\n",
       "    </tr>\n",
       "  </thead>\n",
       "  <tbody>\n",
       "    <tr>\n",
       "      <th>0</th>\n",
       "      <td>6101011001</td>\n",
       "      <td>610101</td>\n",
       "      <td>6101</td>\n",
       "      <td>6.217611e+06</td>\n",
       "      <td>339568.959064</td>\n",
       "      <td>410000000.0</td>\n",
       "      <td>bernardo-ohiggins</td>\n",
       "      <td>casa</td>\n",
       "      <td>5000.0</td>\n",
       "      <td>180.0</td>\n",
       "      <td>4.0</td>\n",
       "      <td>2.0</td>\n",
       "      <td>89.873939</td>\n",
       "      <td>10</td>\n",
       "      <td>525.003210</td>\n",
       "      <td>112.960689</td>\n",
       "      <td>10</td>\n",
       "      <td>409.401279</td>\n",
       "      <td>0.002729</td>\n",
       "      <td>182798.16</td>\n",
       "      <td>1025098.46</td>\n",
       "      <td>588102.78</td>\n",
       "      <td>1</td>\n",
       "      <td>0</td>\n",
       "    </tr>\n",
       "    <tr>\n",
       "      <th>1</th>\n",
       "      <td>6101011001</td>\n",
       "      <td>610101</td>\n",
       "      <td>6101</td>\n",
       "      <td>6.217611e+06</td>\n",
       "      <td>339569.178969</td>\n",
       "      <td>186657380.0</td>\n",
       "      <td>bernardo-ohiggins</td>\n",
       "      <td>casa</td>\n",
       "      <td>3850.0</td>\n",
       "      <td>260.0</td>\n",
       "      <td>4.0</td>\n",
       "      <td>3.0</td>\n",
       "      <td>90.242446</td>\n",
       "      <td>10</td>\n",
       "      <td>525.044718</td>\n",
       "      <td>113.333612</td>\n",
       "      <td>10</td>\n",
       "      <td>409.654368</td>\n",
       "      <td>0.002729</td>\n",
       "      <td>182798.16</td>\n",
       "      <td>1025098.46</td>\n",
       "      <td>588102.78</td>\n",
       "      <td>1</td>\n",
       "      <td>0</td>\n",
       "    </tr>\n",
       "    <tr>\n",
       "      <th>2</th>\n",
       "      <td>6101031001</td>\n",
       "      <td>610103</td>\n",
       "      <td>6101</td>\n",
       "      <td>6.217980e+06</td>\n",
       "      <td>338698.268899</td>\n",
       "      <td>35000000.0</td>\n",
       "      <td>bernardo-ohiggins</td>\n",
       "      <td>casa</td>\n",
       "      <td>120.0</td>\n",
       "      <td>98.0</td>\n",
       "      <td>3.0</td>\n",
       "      <td>1.0</td>\n",
       "      <td>621.683357</td>\n",
       "      <td>5</td>\n",
       "      <td>771.829938</td>\n",
       "      <td>112.930782</td>\n",
       "      <td>10</td>\n",
       "      <td>575.718592</td>\n",
       "      <td>0.004479</td>\n",
       "      <td>158218.36</td>\n",
       "      <td>759789.81</td>\n",
       "      <td>373339.76</td>\n",
       "      <td>1</td>\n",
       "      <td>0</td>\n",
       "    </tr>\n",
       "    <tr>\n",
       "      <th>3</th>\n",
       "      <td>6101031001</td>\n",
       "      <td>610103</td>\n",
       "      <td>6101</td>\n",
       "      <td>6.217980e+06</td>\n",
       "      <td>338698.268899</td>\n",
       "      <td>55000000.0</td>\n",
       "      <td>bernardo-ohiggins</td>\n",
       "      <td>casa</td>\n",
       "      <td>110.0</td>\n",
       "      <td>100.0</td>\n",
       "      <td>4.0</td>\n",
       "      <td>2.0</td>\n",
       "      <td>621.683357</td>\n",
       "      <td>5</td>\n",
       "      <td>771.829938</td>\n",
       "      <td>112.930782</td>\n",
       "      <td>10</td>\n",
       "      <td>575.718592</td>\n",
       "      <td>0.004479</td>\n",
       "      <td>158218.36</td>\n",
       "      <td>759789.81</td>\n",
       "      <td>373339.76</td>\n",
       "      <td>1</td>\n",
       "      <td>0</td>\n",
       "    </tr>\n",
       "    <tr>\n",
       "      <th>4</th>\n",
       "      <td>6101031001</td>\n",
       "      <td>610103</td>\n",
       "      <td>6101</td>\n",
       "      <td>6.218012e+06</td>\n",
       "      <td>338689.990298</td>\n",
       "      <td>272806940.0</td>\n",
       "      <td>bernardo-ohiggins</td>\n",
       "      <td>casa</td>\n",
       "      <td>1100.0</td>\n",
       "      <td>169.0</td>\n",
       "      <td>4.0</td>\n",
       "      <td>2.0</td>\n",
       "      <td>632.800837</td>\n",
       "      <td>5</td>\n",
       "      <td>787.188282</td>\n",
       "      <td>114.359442</td>\n",
       "      <td>10</td>\n",
       "      <td>619.686775</td>\n",
       "      <td>0.004479</td>\n",
       "      <td>158218.36</td>\n",
       "      <td>759789.81</td>\n",
       "      <td>373339.76</td>\n",
       "      <td>1</td>\n",
       "      <td>0</td>\n",
       "    </tr>\n",
       "  </tbody>\n",
       "</table>\n",
       "</div>"
      ],
      "text/plain": [
       "   ID_LOCALIDAD  ID_DISTRITO  ID_COMUNA           lat            lng  \\\n",
       "0    6101011001       610101       6101  6.217611e+06  339568.959064   \n",
       "1    6101011001       610101       6101  6.217611e+06  339569.178969   \n",
       "2    6101031001       610103       6101  6.217980e+06  338698.268899   \n",
       "3    6101031001       610103       6101  6.217980e+06  338698.268899   \n",
       "4    6101031001       610103       6101  6.218012e+06  338689.990298   \n",
       "\n",
       "      precio_f             region  tipo  sup_total  sup_util  dormitorios  \\\n",
       "0  410000000.0  bernardo-ohiggins  casa     5000.0     180.0          4.0   \n",
       "1  186657380.0  bernardo-ohiggins  casa     3850.0     260.0          4.0   \n",
       "2   35000000.0  bernardo-ohiggins  casa      120.0      98.0          3.0   \n",
       "3   55000000.0  bernardo-ohiggins  casa      110.0     100.0          4.0   \n",
       "4  272806940.0  bernardo-ohiggins  casa     1100.0     169.0          4.0   \n",
       "\n",
       "   banos  min_dist_col  n_col  mean_dist_col  min_dist_farm  n_farm  \\\n",
       "0    2.0     89.873939     10     525.003210     112.960689      10   \n",
       "1    3.0     90.242446     10     525.044718     113.333612      10   \n",
       "2    1.0    621.683357      5     771.829938     112.930782      10   \n",
       "3    2.0    621.683357      5     771.829938     112.930782      10   \n",
       "4    2.0    632.800837      5     787.188282     114.359442      10   \n",
       "\n",
       "   mean_dist_farm  RH_PERLLEG4  CNV_MONPAGVIVP  CNH_INGTOTP  CNRH_INGOCUP  \\\n",
       "0      409.401279     0.002729       182798.16   1025098.46     588102.78   \n",
       "1      409.654368     0.002729       182798.16   1025098.46     588102.78   \n",
       "2      575.718592     0.004479       158218.36    759789.81     373339.76   \n",
       "3      575.718592     0.004479       158218.36    759789.81     373339.76   \n",
       "4      619.686775     0.004479       158218.36    759789.81     373339.76   \n",
       "\n",
       "   tipo_num  region_num  \n",
       "0         1           0  \n",
       "1         1           0  \n",
       "2         1           0  \n",
       "3         1           0  \n",
       "4         1           0  "
      ]
     },
     "execution_count": 16,
     "metadata": {},
     "output_type": "execute_result"
    }
   ],
   "source": [
    "df.head()"
   ]
  },
  {
   "cell_type": "markdown",
   "id": "f1d9dff2",
   "metadata": {},
   "source": [
    "### 2.4 \n",
    "Gráficos"
   ]
  },
  {
   "cell_type": "markdown",
   "id": "d63a24e0",
   "metadata": {},
   "source": [
    "### 2.4.1\n",
    "Este histograma nos muestra que de todos los inmuebles, un 97.2% pertenece a la región metropolitana y un 2.8% a la región Bernardo-Ohiggins"
   ]
  },
  {
   "cell_type": "code",
   "execution_count": 17,
   "id": "70982b71",
   "metadata": {},
   "outputs": [
    {
     "data": {
      "image/png": "[encoded data removed]",
      "text/plain": [
       "<Figure size 1500x800 with 1 Axes>"
      ]
     },
     "metadata": {},
     "output_type": "display_data"
    }
   ],
   "source": [
    "text_plot=['{:.1f}%'.format(round(df['region'].value_counts()[1]*100/df.count()[6],2)),\n",
    "            '{:.1f}%'.format(round(df['region'].value_counts()[0]*100/df.count()[6],2))]\n",
    "\n",
    "g=sns.catplot(data=df, x=\"region\", kind=\"count\", palette=\"tab10\")\n",
    "g.fig.set_size_inches(15, 8)\n",
    "g.fig.subplots_adjust(top=0.81, right=0.86)\n",
    "ax = g.facet_axis(0, 0)\n",
    "\n",
    "# itera dentro de los contenedores\n",
    "for c in ax.containers:\n",
    "    labels = text_plot\n",
    "    ax.bar_label(c, labels=labels, label_type='edge')\n",
    "\n",
    "plt.show()"
   ]
  },
  {
   "cell_type": "markdown",
   "id": "26b08a08",
   "metadata": {},
   "source": [
    "### 2.4.2\n",
    "\n",
    "Este histograma nos muestra que de los tipos de inmuebles (casa y depa), un 53,9% pertenecen a la categoría depa y un 46,1% pertenece a la categoría casa"
   ]
  },
  {
   "cell_type": "code",
   "execution_count": 18,
   "id": "9e3f597c",
   "metadata": {},
   "outputs": [
    {
     "data": {
      "image/png": "[encoded data removed]",
      "text/plain": [
       "<Figure size 1500x800 with 1 Axes>"
      ]
     },
     "metadata": {},
     "output_type": "display_data"
    }
   ],
   "source": [
    "text_plot=['{:.1f}%'.format(round(df['tipo'].value_counts()[1]*100/df.count()[7],2)),\n",
    "            '{:.1f}%'.format(round(df['tipo'].value_counts()[0]*100/df.count()[7],2))]\n",
    "\n",
    "g=sns.catplot(data=df, x=\"tipo\", kind=\"count\", palette=\"tab10\")\n",
    "g.fig.set_size_inches(15, 8)\n",
    "g.fig.subplots_adjust(top=0.81, right=0.86)\n",
    "ax = g.facet_axis(0, 0)\n",
    "\n",
    "# itera dentro de los contenedores\n",
    "for c in ax.containers:\n",
    "    labels = text_plot\n",
    "    ax.bar_label(c, labels=labels, label_type='edge')\n",
    "    \n",
    "plt.show()"
   ]
  },
  {
   "cell_type": "markdown",
   "id": "70ebe55d",
   "metadata": {},
   "source": [
    "### 2.4.3\n",
    "A través de este boxplot o gráfico de cajas, podemos ver que el precio medio de las casas es más elevado que el precio medio de los departamentos. También podemos obtener otro tipo de información: como que los valores mínimos y máximos de las casas y departamentos son similares, y que por la desviación estándar que vemos asociada a la media, es posible encontrar encontrar departamentos y casas con distintos precios, no está tan acotado el rango de precios."
   ]
  },
  {
   "cell_type": "code",
   "execution_count": 19,
   "id": "3016c026",
   "metadata": {},
   "outputs": [
    {
     "data": {
      "image/png": "[encoded data removed]",
      "text/plain": [
       "<Figure size 2000x1000 with 1 Axes>"
      ]
     },
     "metadata": {},
     "output_type": "display_data"
    }
   ],
   "source": [
    "df.boxplot(by=\"tipo\", column=\"precio_f\", figsize=(20,10)).set_ylabel(\"precio\")\n",
    "plt.title(\"Precio del inmueble por tipo de inmueble\")\n",
    "plt.show()\n"
   ]
  },
  {
   "cell_type": "markdown",
   "id": "71f67090",
   "metadata": {},
   "source": [
    "### 2.4.4\n",
    "Aunque no tenemos muchos datos de la región de Bernando Ohiggins en comparación a RM, vemos que la media de precios de la región de Bernardo Ohiggins, se sitúa un poco por debajo que la media de precios de RM"
   ]
  },
  {
   "cell_type": "code",
   "execution_count": 20,
   "id": "ce45a6e0",
   "metadata": {},
   "outputs": [
    {
     "data": {
      "image/png": "[encoded data removed]",
      "text/plain": [
       "<Figure size 2000x1000 with 1 Axes>"
      ]
     },
     "metadata": {},
     "output_type": "display_data"
    }
   ],
   "source": [
    "df.boxplot(by=\"region\", column=\"precio_f\", figsize=(20,10)).set_ylabel(\"precio\")\n",
    "plt.title(\"Precio del inmueble por tipo de inmueble\")\n",
    "plt.show()"
   ]
  },
  {
   "cell_type": "markdown",
   "id": "0b19f0f4",
   "metadata": {},
   "source": [
    "### 2.4.5\n",
    "Primero recordar que el valor 0 son los valores NaN, por lo que no se consideran para el análisis. En segundo lugar, podemos ver cómo la media de precios aumenta en relación a la cantidad de baños. Si bien pareciera algo intuitivo, el hecho de confirmarlo estadísticamente con un gráfico de cajas, afirma que esa hipótesis es correcta. Por último para 1 baño, existen gran cantidad de valores atípicos. "
   ]
  },
  {
   "cell_type": "code",
   "execution_count": 21,
   "id": "ba59d3d9",
   "metadata": {},
   "outputs": [
    {
     "data": {
      "image/png": "[encoded data removed]",
      "text/plain": [
       "<Figure size 2000x1000 with 1 Axes>"
      ]
     },
     "metadata": {},
     "output_type": "display_data"
    }
   ],
   "source": [
    "df.boxplot(by=\"banos\", column=\"precio_f\", figsize=(20,10)).set_ylabel(\"precio\")\n",
    "plt.title(\"Precio del inmueble por tipo de inmueble\")\n",
    "plt.show()"
   ]
  },
  {
   "cell_type": "markdown",
   "id": "673314e9",
   "metadata": {},
   "source": [
    "### 2.4.5\n",
    "Podemos ver que en el siguiente histograma hay un tendencia: entre más colegio haya a 1 km a la redonda, disminuye el precio de la vivienda (correlación negativa), hasta el valor 10 que aumenta de nuevo. Para este caso no es posible asegurar el motivo de esto debido a que se carece de información respecto al tema."
   ]
  },
  {
   "cell_type": "code",
   "execution_count": 22,
   "id": "1a51805a",
   "metadata": {},
   "outputs": [
    {
     "data": {
      "image/png": "[encoded data removed]",
      "text/plain": [
       "<Figure size 2000x900 with 1 Axes>"
      ]
     },
     "metadata": {},
     "output_type": "display_data"
    }
   ],
   "source": [
    "df_groups1=df.groupby('n_col')['precio_f'].sum()\n",
    "plt.figure()\n",
    "df_groups1.plot(kind='bar')\n",
    "bar_plot=df_groups1.plot(kind='bar', title='Precio dependiendo del nº de colegios a 1 km a la redonda' ,ylabel='Precio', xlabel='numero de colegios a 1 km a la redonda', figsize=(20,9))\n",
    "plt.show()"
   ]
  },
  {
   "cell_type": "markdown",
   "id": "bb17d987",
   "metadata": {},
   "source": [
    "### 2.4.6\n",
    "En el siguiente histograma podemos ver que los precios no varían mucho en contexto de número de farmacias a 1 km a la redonda (correlación negativa),  excepto para los valores 6,7,8 y 9"
   ]
  },
  {
   "cell_type": "code",
   "execution_count": 23,
   "id": "c8d17fd9",
   "metadata": {},
   "outputs": [
    {
     "data": {
      "image/png": "[encoded data removed]",
      "text/plain": [
       "<Figure size 2000x900 with 1 Axes>"
      ]
     },
     "metadata": {},
     "output_type": "display_data"
    }
   ],
   "source": [
    "df_groups1=df.groupby('n_farm')['precio_f'].sum()\n",
    "plt.figure()\n",
    "df_groups1.plot(kind='bar')\n",
    "bar_plot=df_groups1.plot(kind='bar', title='Precio dependiendo del nº de farmacias a 1 km a la redonda' ,ylabel='Precio', xlabel='numero de farmacias a 1 km a la redonda', figsize=(20,9))\n",
    "plt.show()\n"
   ]
  },
  {
   "cell_type": "markdown",
   "id": "56ac0b4b",
   "metadata": {},
   "source": [
    "### 2.4.7 \n",
    "El siguiente es un histograma de frecuencias para el precio. Podemos ver que en su mayoría, se venden inmuebles cercanos a los 100000000."
   ]
  },
  {
   "cell_type": "code",
   "execution_count": 24,
   "id": "2118cdbc",
   "metadata": {},
   "outputs": [
    {
     "data": {
      "image/png": "[encoded data removed]",
      "text/plain": [
       "<Figure size 500x500 with 1 Axes>"
      ]
     },
     "metadata": {},
     "output_type": "display_data"
    }
   ],
   "source": [
    "sns.displot(df, x=df['precio_f'], kind=\"hist\")\n",
    "plt.xlabel(\"Precio\")\n",
    "plt.show()"
   ]
  },
  {
   "cell_type": "markdown",
   "id": "d0189f4d",
   "metadata": {},
   "source": [
    "### 2.4.8\n",
    "Gráfico de cajas: Dormitorios vs precio. Podemos ver que se confirma algo intuitivo: entre más dormitorios haya, la media de precios va aumentando. Aunque entre los valores 7 y 12 los valores varían."
   ]
  },
  {
   "cell_type": "code",
   "execution_count": 25,
   "id": "c73964ac",
   "metadata": {},
   "outputs": [
    {
     "data": {
      "image/png": "[encoded data removed]",
      "text/plain": [
       "<Figure size 2000x1000 with 1 Axes>"
      ]
     },
     "metadata": {},
     "output_type": "display_data"
    }
   ],
   "source": [
    "df.boxplot(by=\"dormitorios\", column=\"precio_f\", figsize=(20,10)).set_ylabel(\"precio\")\n",
    "plt.title(\"Precio del inmueble por tipo de inmueble\")\n",
    "plt.show()"
   ]
  },
  {
   "cell_type": "markdown",
   "id": "0309619d",
   "metadata": {},
   "source": [
    "### 2.4.9\n",
    "\n",
    "Histograma de dormitorios"
   ]
  },
  {
   "cell_type": "code",
   "execution_count": 26,
   "id": "d4638cc9",
   "metadata": {},
   "outputs": [
    {
     "data": {
      "image/png": "[encoded data removed]",
      "text/plain": [
       "<Figure size 500x500 with 1 Axes>"
      ]
     },
     "metadata": {},
     "output_type": "display_data"
    }
   ],
   "source": [
    "sns.displot(df, x=df['dormitorios'], kind=\"hist\")\n",
    "plt.xlabel(\"Dormitorios\")\n",
    "plt.show()"
   ]
  },
  {
   "cell_type": "markdown",
   "id": "72539030",
   "metadata": {},
   "source": [
    "### 2.4.10\n",
    "\n",
    "Histograma de baños"
   ]
  },
  {
   "cell_type": "code",
   "execution_count": 27,
   "id": "cfc46651",
   "metadata": {},
   "outputs": [
    {
     "data": {
      "image/png": "[encoded data removed]",
      "text/plain": [
       "<Figure size 500x500 with 1 Axes>"
      ]
     },
     "metadata": {},
     "output_type": "display_data"
    }
   ],
   "source": [
    "sns.displot(df, x=df['banos'], kind=\"hist\")\n",
    "plt.xlabel(\"Baños\")\n",
    "plt.show()"
   ]
  },
  {
   "cell_type": "markdown",
   "id": "f42b4ea1",
   "metadata": {},
   "source": [
    "En el histograma 2.4.9 podemos ver que la mayoría de inmuebles tiene 3 dormitorios y en el histograma 2.4.10 que la mayoría de inmuebles tiene 2 baños. Por lo que los más vendidos son inmuebles que tienen 3 dormitorios y 2 baños, seguidos de los que tienen 2 o 4 dormitorios con 1 o 3 baños"
   ]
  },
  {
   "cell_type": "markdown",
   "id": "8b38e8be",
   "metadata": {},
   "source": [
    "## 3. Definición muestra\n",
    "\n",
    "Definir de acuerdo lo inspeccionado anteriormente cual será su muestra final posterior a los filtros pertinentes y a su estrategia de validación que utilizarán para el modelo a estimar. Argumentar las decisiones tomadas en este punto.\n"
   ]
  },
  {
   "cell_type": "markdown",
   "id": "015b2ad5",
   "metadata": {},
   "source": [
    "### 3.1 \n",
    "Para ver nuestra muestra final, eliminaremos las variables categóricas 'tipo' y 'region' debido a que las cambiamos a tipo numérico anteriormente en 2.1. De esta manera solo tendremos variables del tipo numéricas."
   ]
  },
  {
   "cell_type": "code",
   "execution_count": 28,
   "id": "82a1352e",
   "metadata": {},
   "outputs": [
    {
     "data": {
      "text/html": [
       "<div>\n",
       "<style scoped>\n",
       "    .dataframe tbody tr th:only-of-type {\n",
       "        vertical-align: middle;\n",
       "    }\n",
       "\n",
       "    .dataframe tbody tr th {\n",
       "        vertical-align: top;\n",
       "    }\n",
       "\n",
       "    .dataframe thead th {\n",
       "        text-align: right;\n",
       "    }\n",
       "</style>\n",
       "<table border=\"1\" class=\"dataframe\">\n",
       "  <thead>\n",
       "    <tr style=\"text-align: right;\">\n",
       "      <th></th>\n",
       "      <th>ID_LOCALIDAD</th>\n",
       "      <th>ID_DISTRITO</th>\n",
       "      <th>ID_COMUNA</th>\n",
       "      <th>lat</th>\n",
       "      <th>lng</th>\n",
       "      <th>precio_f</th>\n",
       "      <th>sup_total</th>\n",
       "      <th>sup_util</th>\n",
       "      <th>dormitorios</th>\n",
       "      <th>banos</th>\n",
       "      <th>min_dist_col</th>\n",
       "      <th>n_col</th>\n",
       "      <th>mean_dist_col</th>\n",
       "      <th>min_dist_farm</th>\n",
       "      <th>n_farm</th>\n",
       "      <th>mean_dist_farm</th>\n",
       "      <th>RH_PERLLEG4</th>\n",
       "      <th>CNV_MONPAGVIVP</th>\n",
       "      <th>CNH_INGTOTP</th>\n",
       "      <th>CNRH_INGOCUP</th>\n",
       "      <th>tipo_num</th>\n",
       "      <th>region_num</th>\n",
       "    </tr>\n",
       "  </thead>\n",
       "  <tbody>\n",
       "    <tr>\n",
       "      <th>0</th>\n",
       "      <td>6101011001</td>\n",
       "      <td>610101</td>\n",
       "      <td>6101</td>\n",
       "      <td>6.217611e+06</td>\n",
       "      <td>339568.959064</td>\n",
       "      <td>410000000.0</td>\n",
       "      <td>5000.0</td>\n",
       "      <td>180.0</td>\n",
       "      <td>4.0</td>\n",
       "      <td>2.0</td>\n",
       "      <td>89.873939</td>\n",
       "      <td>10</td>\n",
       "      <td>525.003210</td>\n",
       "      <td>112.960689</td>\n",
       "      <td>10</td>\n",
       "      <td>409.401279</td>\n",
       "      <td>0.002729</td>\n",
       "      <td>182798.16</td>\n",
       "      <td>1025098.46</td>\n",
       "      <td>588102.78</td>\n",
       "      <td>1</td>\n",
       "      <td>0</td>\n",
       "    </tr>\n",
       "    <tr>\n",
       "      <th>1</th>\n",
       "      <td>6101011001</td>\n",
       "      <td>610101</td>\n",
       "      <td>6101</td>\n",
       "      <td>6.217611e+06</td>\n",
       "      <td>339569.178969</td>\n",
       "      <td>186657380.0</td>\n",
       "      <td>3850.0</td>\n",
       "      <td>260.0</td>\n",
       "      <td>4.0</td>\n",
       "      <td>3.0</td>\n",
       "      <td>90.242446</td>\n",
       "      <td>10</td>\n",
       "      <td>525.044718</td>\n",
       "      <td>113.333612</td>\n",
       "      <td>10</td>\n",
       "      <td>409.654368</td>\n",
       "      <td>0.002729</td>\n",
       "      <td>182798.16</td>\n",
       "      <td>1025098.46</td>\n",
       "      <td>588102.78</td>\n",
       "      <td>1</td>\n",
       "      <td>0</td>\n",
       "    </tr>\n",
       "    <tr>\n",
       "      <th>2</th>\n",
       "      <td>6101031001</td>\n",
       "      <td>610103</td>\n",
       "      <td>6101</td>\n",
       "      <td>6.217980e+06</td>\n",
       "      <td>338698.268899</td>\n",
       "      <td>35000000.0</td>\n",
       "      <td>120.0</td>\n",
       "      <td>98.0</td>\n",
       "      <td>3.0</td>\n",
       "      <td>1.0</td>\n",
       "      <td>621.683357</td>\n",
       "      <td>5</td>\n",
       "      <td>771.829938</td>\n",
       "      <td>112.930782</td>\n",
       "      <td>10</td>\n",
       "      <td>575.718592</td>\n",
       "      <td>0.004479</td>\n",
       "      <td>158218.36</td>\n",
       "      <td>759789.81</td>\n",
       "      <td>373339.76</td>\n",
       "      <td>1</td>\n",
       "      <td>0</td>\n",
       "    </tr>\n",
       "    <tr>\n",
       "      <th>3</th>\n",
       "      <td>6101031001</td>\n",
       "      <td>610103</td>\n",
       "      <td>6101</td>\n",
       "      <td>6.217980e+06</td>\n",
       "      <td>338698.268899</td>\n",
       "      <td>55000000.0</td>\n",
       "      <td>110.0</td>\n",
       "      <td>100.0</td>\n",
       "      <td>4.0</td>\n",
       "      <td>2.0</td>\n",
       "      <td>621.683357</td>\n",
       "      <td>5</td>\n",
       "      <td>771.829938</td>\n",
       "      <td>112.930782</td>\n",
       "      <td>10</td>\n",
       "      <td>575.718592</td>\n",
       "      <td>0.004479</td>\n",
       "      <td>158218.36</td>\n",
       "      <td>759789.81</td>\n",
       "      <td>373339.76</td>\n",
       "      <td>1</td>\n",
       "      <td>0</td>\n",
       "    </tr>\n",
       "    <tr>\n",
       "      <th>4</th>\n",
       "      <td>6101031001</td>\n",
       "      <td>610103</td>\n",
       "      <td>6101</td>\n",
       "      <td>6.218012e+06</td>\n",
       "      <td>338689.990298</td>\n",
       "      <td>272806940.0</td>\n",
       "      <td>1100.0</td>\n",
       "      <td>169.0</td>\n",
       "      <td>4.0</td>\n",
       "      <td>2.0</td>\n",
       "      <td>632.800837</td>\n",
       "      <td>5</td>\n",
       "      <td>787.188282</td>\n",
       "      <td>114.359442</td>\n",
       "      <td>10</td>\n",
       "      <td>619.686775</td>\n",
       "      <td>0.004479</td>\n",
       "      <td>158218.36</td>\n",
       "      <td>759789.81</td>\n",
       "      <td>373339.76</td>\n",
       "      <td>1</td>\n",
       "      <td>0</td>\n",
       "    </tr>\n",
       "  </tbody>\n",
       "</table>\n",
       "</div>"
      ],
      "text/plain": [
       "   ID_LOCALIDAD  ID_DISTRITO  ID_COMUNA           lat            lng  \\\n",
       "0    6101011001       610101       6101  6.217611e+06  339568.959064   \n",
       "1    6101011001       610101       6101  6.217611e+06  339569.178969   \n",
       "2    6101031001       610103       6101  6.217980e+06  338698.268899   \n",
       "3    6101031001       610103       6101  6.217980e+06  338698.268899   \n",
       "4    6101031001       610103       6101  6.218012e+06  338689.990298   \n",
       "\n",
       "      precio_f  sup_total  sup_util  dormitorios  banos  min_dist_col  n_col  \\\n",
       "0  410000000.0     5000.0     180.0          4.0    2.0     89.873939     10   \n",
       "1  186657380.0     3850.0     260.0          4.0    3.0     90.242446     10   \n",
       "2   35000000.0      120.0      98.0          3.0    1.0    621.683357      5   \n",
       "3   55000000.0      110.0     100.0          4.0    2.0    621.683357      5   \n",
       "4  272806940.0     1100.0     169.0          4.0    2.0    632.800837      5   \n",
       "\n",
       "   mean_dist_col  min_dist_farm  n_farm  mean_dist_farm  RH_PERLLEG4  \\\n",
       "0     525.003210     112.960689      10      409.401279     0.002729   \n",
       "1     525.044718     113.333612      10      409.654368     0.002729   \n",
       "2     771.829938     112.930782      10      575.718592     0.004479   \n",
       "3     771.829938     112.930782      10      575.718592     0.004479   \n",
       "4     787.188282     114.359442      10      619.686775     0.004479   \n",
       "\n",
       "   CNV_MONPAGVIVP  CNH_INGTOTP  CNRH_INGOCUP  tipo_num  region_num  \n",
       "0       182798.16   1025098.46     588102.78         1           0  \n",
       "1       182798.16   1025098.46     588102.78         1           0  \n",
       "2       158218.36    759789.81     373339.76         1           0  \n",
       "3       158218.36    759789.81     373339.76         1           0  \n",
       "4       158218.36    759789.81     373339.76         1           0  "
      ]
     },
     "execution_count": 28,
     "metadata": {},
     "output_type": "execute_result"
    }
   ],
   "source": [
    "df=df.drop(columns=['region','tipo'])\n",
    "df.head()"
   ]
  },
  {
   "cell_type": "markdown",
   "id": "94f98910",
   "metadata": {},
   "source": [
    "### 3.2\n",
    "Ahora que tenemos variables numéricas, podemos obtener más información de los datos por medio del análisis de componentes principales (PCA, por sus siglas en inglés) y la matriz de correlaciones:"
   ]
  },
  {
   "cell_type": "markdown",
   "id": "d3f34de2",
   "metadata": {},
   "source": [
    "### 3.2.1 \n",
    "Analizaremos la matriz de correlaciones. Para entrar en contexto, es una matriz simétrica en su diagonal. Los valores de las correlaciones van de -1 a 1, siendo -1 y 1 valores donde se correlacionan las variables linealmente y 0 donde no se correlacionan linealmente. De todas las variables, y siguiendo con el objetivo principal, nos situaremos en la fila 'precio_f' e iremos viendo las columnas que poseen mayor correlacion (valores cercanos a 1 y -1).Estos serían:\n",
    "\n",
    "* lat: 0.22\n",
    "* lng: 0.21\n",
    "* dormitorios: 0.48\n",
    "* banos: 0.66\n",
    "* min_dist_col: 0.23\n",
    "* n_col: -0.44\n",
    "* mean_dist_col: -0.21\n",
    "* n_farm: -0.24\n",
    "* RH_PERLLEG4: 0.58\n",
    "* CNV_MONPAGVIVP: 0.61\n",
    "* CNH_INGTOTP: 0.60\n",
    "* CNRH_INGOCUP: 0.59\n",
    "\n",
    "Si los histogramas 2.4.5 y 2.4.6 y lo comparamos con el valor dado en la correlación de 'n_farm' y 'n_col', estos dieron valores negativos debido a que existe una correlación negativa. \n",
    "\n",
    "Ahora surge la pregunta: ¿las otras columnas se pueden eliminar? Debido a la información que se posee para el problema, no se puede asegurar que no se perderá información en la predicción. Para hacerlo, se debe eliminar causalidad entra las variables para correlaciones bajas, de esta forma, nos aseguramos de que con menos variables, expliquemos los datos y se pueda predecir el mismo problema.\n"
   ]
  },
  {
   "cell_type": "code",
   "execution_count": 29,
   "id": "e8ee87ce",
   "metadata": {},
   "outputs": [
    {
     "data": {
      "text/html": [
       "<div>\n",
       "<style scoped>\n",
       "    .dataframe tbody tr th:only-of-type {\n",
       "        vertical-align: middle;\n",
       "    }\n",
       "\n",
       "    .dataframe tbody tr th {\n",
       "        vertical-align: top;\n",
       "    }\n",
       "\n",
       "    .dataframe thead th {\n",
       "        text-align: right;\n",
       "    }\n",
       "</style>\n",
       "<table border=\"1\" class=\"dataframe\">\n",
       "  <thead>\n",
       "    <tr style=\"text-align: right;\">\n",
       "      <th></th>\n",
       "      <th>ID_LOCALIDAD</th>\n",
       "      <th>ID_DISTRITO</th>\n",
       "      <th>ID_COMUNA</th>\n",
       "      <th>lat</th>\n",
       "      <th>lng</th>\n",
       "      <th>precio_f</th>\n",
       "      <th>sup_total</th>\n",
       "      <th>sup_util</th>\n",
       "      <th>dormitorios</th>\n",
       "      <th>banos</th>\n",
       "      <th>min_dist_col</th>\n",
       "      <th>n_col</th>\n",
       "      <th>mean_dist_col</th>\n",
       "      <th>min_dist_farm</th>\n",
       "      <th>n_farm</th>\n",
       "      <th>mean_dist_farm</th>\n",
       "      <th>RH_PERLLEG4</th>\n",
       "      <th>CNV_MONPAGVIVP</th>\n",
       "      <th>CNH_INGTOTP</th>\n",
       "      <th>CNRH_INGOCUP</th>\n",
       "      <th>tipo_num</th>\n",
       "      <th>region_num</th>\n",
       "    </tr>\n",
       "  </thead>\n",
       "  <tbody>\n",
       "    <tr>\n",
       "      <th>ID_LOCALIDAD</th>\n",
       "      <td>1.000000</td>\n",
       "      <td>1.000000</td>\n",
       "      <td>1.000000</td>\n",
       "      <td>0.803081</td>\n",
       "      <td>0.393360</td>\n",
       "      <td>0.042648</td>\n",
       "      <td>-0.004029</td>\n",
       "      <td>-0.011473</td>\n",
       "      <td>-0.079447</td>\n",
       "      <td>-0.034728</td>\n",
       "      <td>-0.043827</td>\n",
       "      <td>0.083855</td>\n",
       "      <td>0.083314</td>\n",
       "      <td>-0.031335</td>\n",
       "      <td>0.102756</td>\n",
       "      <td>0.112890</td>\n",
       "      <td>0.144406</td>\n",
       "      <td>0.190338</td>\n",
       "      <td>0.158271</td>\n",
       "      <td>0.147977</td>\n",
       "      <td>-0.143024</td>\n",
       "      <td>0.996592</td>\n",
       "    </tr>\n",
       "    <tr>\n",
       "      <th>ID_DISTRITO</th>\n",
       "      <td>1.000000</td>\n",
       "      <td>1.000000</td>\n",
       "      <td>1.000000</td>\n",
       "      <td>0.803081</td>\n",
       "      <td>0.393360</td>\n",
       "      <td>0.042648</td>\n",
       "      <td>-0.004029</td>\n",
       "      <td>-0.011473</td>\n",
       "      <td>-0.079447</td>\n",
       "      <td>-0.034728</td>\n",
       "      <td>-0.043827</td>\n",
       "      <td>0.083855</td>\n",
       "      <td>0.083314</td>\n",
       "      <td>-0.031335</td>\n",
       "      <td>0.102756</td>\n",
       "      <td>0.112890</td>\n",
       "      <td>0.144406</td>\n",
       "      <td>0.190338</td>\n",
       "      <td>0.158271</td>\n",
       "      <td>0.147977</td>\n",
       "      <td>-0.143024</td>\n",
       "      <td>0.996592</td>\n",
       "    </tr>\n",
       "    <tr>\n",
       "      <th>ID_COMUNA</th>\n",
       "      <td>1.000000</td>\n",
       "      <td>1.000000</td>\n",
       "      <td>1.000000</td>\n",
       "      <td>0.803085</td>\n",
       "      <td>0.393360</td>\n",
       "      <td>0.042659</td>\n",
       "      <td>-0.004028</td>\n",
       "      <td>-0.011473</td>\n",
       "      <td>-0.079442</td>\n",
       "      <td>-0.034719</td>\n",
       "      <td>-0.043824</td>\n",
       "      <td>0.083845</td>\n",
       "      <td>0.083307</td>\n",
       "      <td>-0.031333</td>\n",
       "      <td>0.102750</td>\n",
       "      <td>0.112884</td>\n",
       "      <td>0.144414</td>\n",
       "      <td>0.190347</td>\n",
       "      <td>0.158279</td>\n",
       "      <td>0.147984</td>\n",
       "      <td>-0.143021</td>\n",
       "      <td>0.996591</td>\n",
       "    </tr>\n",
       "    <tr>\n",
       "      <th>lat</th>\n",
       "      <td>0.803081</td>\n",
       "      <td>0.803081</td>\n",
       "      <td>0.803085</td>\n",
       "      <td>1.000000</td>\n",
       "      <td>0.450089</td>\n",
       "      <td>0.221906</td>\n",
       "      <td>0.000689</td>\n",
       "      <td>-0.008539</td>\n",
       "      <td>-0.067129</td>\n",
       "      <td>0.070009</td>\n",
       "      <td>0.034804</td>\n",
       "      <td>-0.033811</td>\n",
       "      <td>0.024366</td>\n",
       "      <td>-0.049066</td>\n",
       "      <td>0.102805</td>\n",
       "      <td>0.104812</td>\n",
       "      <td>0.330965</td>\n",
       "      <td>0.372043</td>\n",
       "      <td>0.302750</td>\n",
       "      <td>0.324933</td>\n",
       "      <td>-0.200942</td>\n",
       "      <td>0.814938</td>\n",
       "    </tr>\n",
       "    <tr>\n",
       "      <th>lng</th>\n",
       "      <td>0.393360</td>\n",
       "      <td>0.393360</td>\n",
       "      <td>0.393360</td>\n",
       "      <td>0.450089</td>\n",
       "      <td>1.000000</td>\n",
       "      <td>0.212333</td>\n",
       "      <td>-0.032701</td>\n",
       "      <td>-0.006770</td>\n",
       "      <td>-0.060563</td>\n",
       "      <td>0.023145</td>\n",
       "      <td>0.071639</td>\n",
       "      <td>0.035161</td>\n",
       "      <td>0.175352</td>\n",
       "      <td>0.045340</td>\n",
       "      <td>0.106933</td>\n",
       "      <td>0.201907</td>\n",
       "      <td>0.358508</td>\n",
       "      <td>0.484666</td>\n",
       "      <td>0.492086</td>\n",
       "      <td>0.468806</td>\n",
       "      <td>-0.250537</td>\n",
       "      <td>0.433064</td>\n",
       "    </tr>\n",
       "    <tr>\n",
       "      <th>precio_f</th>\n",
       "      <td>0.042648</td>\n",
       "      <td>0.042648</td>\n",
       "      <td>0.042659</td>\n",
       "      <td>0.221906</td>\n",
       "      <td>0.212333</td>\n",
       "      <td>1.000000</td>\n",
       "      <td>0.021027</td>\n",
       "      <td>0.045418</td>\n",
       "      <td>0.477289</td>\n",
       "      <td>0.657716</td>\n",
       "      <td>0.231694</td>\n",
       "      <td>-0.438404</td>\n",
       "      <td>-0.214181</td>\n",
       "      <td>0.131531</td>\n",
       "      <td>-0.235174</td>\n",
       "      <td>-0.103227</td>\n",
       "      <td>0.575278</td>\n",
       "      <td>0.608036</td>\n",
       "      <td>0.597095</td>\n",
       "      <td>0.585936</td>\n",
       "      <td>0.174801</td>\n",
       "      <td>0.035201</td>\n",
       "    </tr>\n",
       "    <tr>\n",
       "      <th>sup_total</th>\n",
       "      <td>-0.004029</td>\n",
       "      <td>-0.004029</td>\n",
       "      <td>-0.004028</td>\n",
       "      <td>0.000689</td>\n",
       "      <td>-0.032701</td>\n",
       "      <td>0.021027</td>\n",
       "      <td>1.000000</td>\n",
       "      <td>0.077481</td>\n",
       "      <td>0.016889</td>\n",
       "      <td>0.025127</td>\n",
       "      <td>0.009409</td>\n",
       "      <td>-0.022117</td>\n",
       "      <td>-0.020013</td>\n",
       "      <td>-0.004834</td>\n",
       "      <td>-0.022728</td>\n",
       "      <td>-0.026093</td>\n",
       "      <td>-0.010255</td>\n",
       "      <td>-0.005384</td>\n",
       "      <td>-0.013349</td>\n",
       "      <td>-0.014302</td>\n",
       "      <td>0.026539</td>\n",
       "      <td>-0.007584</td>\n",
       "    </tr>\n",
       "    <tr>\n",
       "      <th>sup_util</th>\n",
       "      <td>-0.011473</td>\n",
       "      <td>-0.011473</td>\n",
       "      <td>-0.011473</td>\n",
       "      <td>-0.008539</td>\n",
       "      <td>-0.006770</td>\n",
       "      <td>0.045418</td>\n",
       "      <td>0.077481</td>\n",
       "      <td>1.000000</td>\n",
       "      <td>0.024085</td>\n",
       "      <td>0.033351</td>\n",
       "      <td>0.025336</td>\n",
       "      <td>-0.027073</td>\n",
       "      <td>-0.017113</td>\n",
       "      <td>0.000797</td>\n",
       "      <td>-0.018360</td>\n",
       "      <td>-0.016204</td>\n",
       "      <td>0.013798</td>\n",
       "      <td>0.015643</td>\n",
       "      <td>0.016373</td>\n",
       "      <td>0.013614</td>\n",
       "      <td>0.014020</td>\n",
       "      <td>-0.012764</td>\n",
       "    </tr>\n",
       "    <tr>\n",
       "      <th>dormitorios</th>\n",
       "      <td>-0.079447</td>\n",
       "      <td>-0.079447</td>\n",
       "      <td>-0.079442</td>\n",
       "      <td>-0.067129</td>\n",
       "      <td>-0.060563</td>\n",
       "      <td>0.477289</td>\n",
       "      <td>0.016889</td>\n",
       "      <td>0.024085</td>\n",
       "      <td>1.000000</td>\n",
       "      <td>0.662788</td>\n",
       "      <td>0.115584</td>\n",
       "      <td>-0.281859</td>\n",
       "      <td>-0.198594</td>\n",
       "      <td>0.205641</td>\n",
       "      <td>-0.366641</td>\n",
       "      <td>-0.177587</td>\n",
       "      <td>0.007377</td>\n",
       "      <td>0.069556</td>\n",
       "      <td>0.087228</td>\n",
       "      <td>0.005024</td>\n",
       "      <td>0.521529</td>\n",
       "      <td>-0.097251</td>\n",
       "    </tr>\n",
       "    <tr>\n",
       "      <th>banos</th>\n",
       "      <td>-0.034728</td>\n",
       "      <td>-0.034728</td>\n",
       "      <td>-0.034719</td>\n",
       "      <td>0.070009</td>\n",
       "      <td>0.023145</td>\n",
       "      <td>0.657716</td>\n",
       "      <td>0.025127</td>\n",
       "      <td>0.033351</td>\n",
       "      <td>0.662788</td>\n",
       "      <td>1.000000</td>\n",
       "      <td>0.195563</td>\n",
       "      <td>-0.418114</td>\n",
       "      <td>-0.277057</td>\n",
       "      <td>0.138890</td>\n",
       "      <td>-0.314434</td>\n",
       "      <td>-0.209053</td>\n",
       "      <td>0.245040</td>\n",
       "      <td>0.279292</td>\n",
       "      <td>0.280539</td>\n",
       "      <td>0.235786</td>\n",
       "      <td>0.309648</td>\n",
       "      <td>-0.054006</td>\n",
       "    </tr>\n",
       "    <tr>\n",
       "      <th>min_dist_col</th>\n",
       "      <td>-0.043827</td>\n",
       "      <td>-0.043827</td>\n",
       "      <td>-0.043824</td>\n",
       "      <td>0.034804</td>\n",
       "      <td>0.071639</td>\n",
       "      <td>0.231694</td>\n",
       "      <td>0.009409</td>\n",
       "      <td>0.025336</td>\n",
       "      <td>0.115584</td>\n",
       "      <td>0.195563</td>\n",
       "      <td>1.000000</td>\n",
       "      <td>-0.499117</td>\n",
       "      <td>0.733215</td>\n",
       "      <td>0.050782</td>\n",
       "      <td>-0.178991</td>\n",
       "      <td>-0.121124</td>\n",
       "      <td>0.173820</td>\n",
       "      <td>0.230394</td>\n",
       "      <td>0.230022</td>\n",
       "      <td>0.198080</td>\n",
       "      <td>0.089389</td>\n",
       "      <td>-0.049021</td>\n",
       "    </tr>\n",
       "    <tr>\n",
       "      <th>n_col</th>\n",
       "      <td>0.083855</td>\n",
       "      <td>0.083855</td>\n",
       "      <td>0.083845</td>\n",
       "      <td>-0.033811</td>\n",
       "      <td>0.035161</td>\n",
       "      <td>-0.438404</td>\n",
       "      <td>-0.022117</td>\n",
       "      <td>-0.027073</td>\n",
       "      <td>-0.281859</td>\n",
       "      <td>-0.418114</td>\n",
       "      <td>-0.499117</td>\n",
       "      <td>1.000000</td>\n",
       "      <td>0.464415</td>\n",
       "      <td>-0.169217</td>\n",
       "      <td>0.504104</td>\n",
       "      <td>0.378802</td>\n",
       "      <td>-0.255033</td>\n",
       "      <td>-0.305213</td>\n",
       "      <td>-0.291496</td>\n",
       "      <td>-0.229925</td>\n",
       "      <td>-0.313019</td>\n",
       "      <td>0.109301</td>\n",
       "    </tr>\n",
       "    <tr>\n",
       "      <th>mean_dist_col</th>\n",
       "      <td>0.083314</td>\n",
       "      <td>0.083314</td>\n",
       "      <td>0.083307</td>\n",
       "      <td>0.024366</td>\n",
       "      <td>0.175352</td>\n",
       "      <td>-0.214181</td>\n",
       "      <td>-0.020013</td>\n",
       "      <td>-0.017113</td>\n",
       "      <td>-0.198594</td>\n",
       "      <td>-0.277057</td>\n",
       "      <td>0.733215</td>\n",
       "      <td>0.464415</td>\n",
       "      <td>1.000000</td>\n",
       "      <td>-0.057581</td>\n",
       "      <td>0.330974</td>\n",
       "      <td>0.398599</td>\n",
       "      <td>0.002924</td>\n",
       "      <td>-0.003378</td>\n",
       "      <td>0.013998</td>\n",
       "      <td>0.052042</td>\n",
       "      <td>-0.288439</td>\n",
       "      <td>0.114220</td>\n",
       "    </tr>\n",
       "    <tr>\n",
       "      <th>min_dist_farm</th>\n",
       "      <td>-0.031335</td>\n",
       "      <td>-0.031335</td>\n",
       "      <td>-0.031333</td>\n",
       "      <td>-0.049066</td>\n",
       "      <td>0.045340</td>\n",
       "      <td>0.131531</td>\n",
       "      <td>-0.004834</td>\n",
       "      <td>0.000797</td>\n",
       "      <td>0.205641</td>\n",
       "      <td>0.138890</td>\n",
       "      <td>0.050782</td>\n",
       "      <td>-0.169217</td>\n",
       "      <td>-0.057581</td>\n",
       "      <td>1.000000</td>\n",
       "      <td>-0.503909</td>\n",
       "      <td>0.800531</td>\n",
       "      <td>-0.012218</td>\n",
       "      <td>0.044283</td>\n",
       "      <td>0.077895</td>\n",
       "      <td>-0.008216</td>\n",
       "      <td>0.289629</td>\n",
       "      <td>-0.039423</td>\n",
       "    </tr>\n",
       "    <tr>\n",
       "      <th>n_farm</th>\n",
       "      <td>0.102756</td>\n",
       "      <td>0.102756</td>\n",
       "      <td>0.102750</td>\n",
       "      <td>0.102805</td>\n",
       "      <td>0.106933</td>\n",
       "      <td>-0.235174</td>\n",
       "      <td>-0.022728</td>\n",
       "      <td>-0.018360</td>\n",
       "      <td>-0.366641</td>\n",
       "      <td>-0.314434</td>\n",
       "      <td>-0.178991</td>\n",
       "      <td>0.504104</td>\n",
       "      <td>0.330974</td>\n",
       "      <td>-0.503909</td>\n",
       "      <td>1.000000</td>\n",
       "      <td>0.426117</td>\n",
       "      <td>0.087771</td>\n",
       "      <td>-0.009976</td>\n",
       "      <td>-0.039529</td>\n",
       "      <td>0.097737</td>\n",
       "      <td>-0.531591</td>\n",
       "      <td>0.132418</td>\n",
       "    </tr>\n",
       "    <tr>\n",
       "      <th>mean_dist_farm</th>\n",
       "      <td>0.112890</td>\n",
       "      <td>0.112890</td>\n",
       "      <td>0.112884</td>\n",
       "      <td>0.104812</td>\n",
       "      <td>0.201907</td>\n",
       "      <td>-0.103227</td>\n",
       "      <td>-0.026093</td>\n",
       "      <td>-0.016204</td>\n",
       "      <td>-0.177587</td>\n",
       "      <td>-0.209053</td>\n",
       "      <td>-0.121124</td>\n",
       "      <td>0.378802</td>\n",
       "      <td>0.398599</td>\n",
       "      <td>0.800531</td>\n",
       "      <td>0.426117</td>\n",
       "      <td>1.000000</td>\n",
       "      <td>0.154130</td>\n",
       "      <td>0.115865</td>\n",
       "      <td>0.116171</td>\n",
       "      <td>0.169406</td>\n",
       "      <td>-0.322214</td>\n",
       "      <td>0.143642</td>\n",
       "    </tr>\n",
       "    <tr>\n",
       "      <th>RH_PERLLEG4</th>\n",
       "      <td>0.144406</td>\n",
       "      <td>0.144406</td>\n",
       "      <td>0.144414</td>\n",
       "      <td>0.330965</td>\n",
       "      <td>0.358508</td>\n",
       "      <td>0.575278</td>\n",
       "      <td>-0.010255</td>\n",
       "      <td>0.013798</td>\n",
       "      <td>0.007377</td>\n",
       "      <td>0.245040</td>\n",
       "      <td>0.173820</td>\n",
       "      <td>-0.255033</td>\n",
       "      <td>0.002924</td>\n",
       "      <td>-0.012218</td>\n",
       "      <td>0.087771</td>\n",
       "      <td>0.154130</td>\n",
       "      <td>1.000000</td>\n",
       "      <td>0.730360</td>\n",
       "      <td>0.727482</td>\n",
       "      <td>0.820745</td>\n",
       "      <td>-0.346592</td>\n",
       "      <td>0.158969</td>\n",
       "    </tr>\n",
       "    <tr>\n",
       "      <th>CNV_MONPAGVIVP</th>\n",
       "      <td>0.190338</td>\n",
       "      <td>0.190338</td>\n",
       "      <td>0.190347</td>\n",
       "      <td>0.372043</td>\n",
       "      <td>0.484666</td>\n",
       "      <td>0.608036</td>\n",
       "      <td>-0.005384</td>\n",
       "      <td>0.015643</td>\n",
       "      <td>0.069556</td>\n",
       "      <td>0.279292</td>\n",
       "      <td>0.230394</td>\n",
       "      <td>-0.305213</td>\n",
       "      <td>-0.003378</td>\n",
       "      <td>0.044283</td>\n",
       "      <td>-0.009976</td>\n",
       "      <td>0.115865</td>\n",
       "      <td>0.730360</td>\n",
       "      <td>1.000000</td>\n",
       "      <td>0.941016</td>\n",
       "      <td>0.912848</td>\n",
       "      <td>-0.248334</td>\n",
       "      <td>0.210382</td>\n",
       "    </tr>\n",
       "    <tr>\n",
       "      <th>CNH_INGTOTP</th>\n",
       "      <td>0.158271</td>\n",
       "      <td>0.158271</td>\n",
       "      <td>0.158279</td>\n",
       "      <td>0.302750</td>\n",
       "      <td>0.492086</td>\n",
       "      <td>0.597095</td>\n",
       "      <td>-0.013349</td>\n",
       "      <td>0.016373</td>\n",
       "      <td>0.087228</td>\n",
       "      <td>0.280539</td>\n",
       "      <td>0.230022</td>\n",
       "      <td>-0.291496</td>\n",
       "      <td>0.013998</td>\n",
       "      <td>0.077895</td>\n",
       "      <td>-0.039529</td>\n",
       "      <td>0.116171</td>\n",
       "      <td>0.727482</td>\n",
       "      <td>0.941016</td>\n",
       "      <td>1.000000</td>\n",
       "      <td>0.948146</td>\n",
       "      <td>-0.216881</td>\n",
       "      <td>0.179590</td>\n",
       "    </tr>\n",
       "    <tr>\n",
       "      <th>CNRH_INGOCUP</th>\n",
       "      <td>0.147977</td>\n",
       "      <td>0.147977</td>\n",
       "      <td>0.147984</td>\n",
       "      <td>0.324933</td>\n",
       "      <td>0.468806</td>\n",
       "      <td>0.585936</td>\n",
       "      <td>-0.014302</td>\n",
       "      <td>0.013614</td>\n",
       "      <td>0.005024</td>\n",
       "      <td>0.235786</td>\n",
       "      <td>0.198080</td>\n",
       "      <td>-0.229925</td>\n",
       "      <td>0.052042</td>\n",
       "      <td>-0.008216</td>\n",
       "      <td>0.097737</td>\n",
       "      <td>0.169406</td>\n",
       "      <td>0.820745</td>\n",
       "      <td>0.912848</td>\n",
       "      <td>0.948146</td>\n",
       "      <td>1.000000</td>\n",
       "      <td>-0.354126</td>\n",
       "      <td>0.169555</td>\n",
       "    </tr>\n",
       "    <tr>\n",
       "      <th>tipo_num</th>\n",
       "      <td>-0.143024</td>\n",
       "      <td>-0.143024</td>\n",
       "      <td>-0.143021</td>\n",
       "      <td>-0.200942</td>\n",
       "      <td>-0.250537</td>\n",
       "      <td>0.174801</td>\n",
       "      <td>0.026539</td>\n",
       "      <td>0.014020</td>\n",
       "      <td>0.521529</td>\n",
       "      <td>0.309648</td>\n",
       "      <td>0.089389</td>\n",
       "      <td>-0.313019</td>\n",
       "      <td>-0.288439</td>\n",
       "      <td>0.289629</td>\n",
       "      <td>-0.531591</td>\n",
       "      <td>-0.322214</td>\n",
       "      <td>-0.346592</td>\n",
       "      <td>-0.248334</td>\n",
       "      <td>-0.216881</td>\n",
       "      <td>-0.354126</td>\n",
       "      <td>1.000000</td>\n",
       "      <td>-0.178036</td>\n",
       "    </tr>\n",
       "    <tr>\n",
       "      <th>region_num</th>\n",
       "      <td>0.996592</td>\n",
       "      <td>0.996592</td>\n",
       "      <td>0.996591</td>\n",
       "      <td>0.814938</td>\n",
       "      <td>0.433064</td>\n",
       "      <td>0.035201</td>\n",
       "      <td>-0.007584</td>\n",
       "      <td>-0.012764</td>\n",
       "      <td>-0.097251</td>\n",
       "      <td>-0.054006</td>\n",
       "      <td>-0.049021</td>\n",
       "      <td>0.109301</td>\n",
       "      <td>0.114220</td>\n",
       "      <td>-0.039423</td>\n",
       "      <td>0.132418</td>\n",
       "      <td>0.143642</td>\n",
       "      <td>0.158969</td>\n",
       "      <td>0.210382</td>\n",
       "      <td>0.179590</td>\n",
       "      <td>0.169555</td>\n",
       "      <td>-0.178036</td>\n",
       "      <td>1.000000</td>\n",
       "    </tr>\n",
       "  </tbody>\n",
       "</table>\n",
       "</div>"
      ],
      "text/plain": [
       "                ID_LOCALIDAD  ID_DISTRITO  ID_COMUNA       lat       lng  \\\n",
       "ID_LOCALIDAD        1.000000     1.000000   1.000000  0.803081  0.393360   \n",
       "ID_DISTRITO         1.000000     1.000000   1.000000  0.803081  0.393360   \n",
       "ID_COMUNA           1.000000     1.000000   1.000000  0.803085  0.393360   \n",
       "lat                 0.803081     0.803081   0.803085  1.000000  0.450089   \n",
       "lng                 0.393360     0.393360   0.393360  0.450089  1.000000   \n",
       "precio_f            0.042648     0.042648   0.042659  0.221906  0.212333   \n",
       "sup_total          -0.004029    -0.004029  -0.004028  0.000689 -0.032701   \n",
       "sup_util           -0.011473    -0.011473  -0.011473 -0.008539 -0.006770   \n",
       "dormitorios        -0.079447    -0.079447  -0.079442 -0.067129 -0.060563   \n",
       "banos              -0.034728    -0.034728  -0.034719  0.070009  0.023145   \n",
       "min_dist_col       -0.043827    -0.043827  -0.043824  0.034804  0.071639   \n",
       "n_col               0.083855     0.083855   0.083845 -0.033811  0.035161   \n",
       "mean_dist_col       0.083314     0.083314   0.083307  0.024366  0.175352   \n",
       "min_dist_farm      -0.031335    -0.031335  -0.031333 -0.049066  0.045340   \n",
       "n_farm              0.102756     0.102756   0.102750  0.102805  0.106933   \n",
       "mean_dist_farm      0.112890     0.112890   0.112884  0.104812  0.201907   \n",
       "RH_PERLLEG4         0.144406     0.144406   0.144414  0.330965  0.358508   \n",
       "CNV_MONPAGVIVP      0.190338     0.190338   0.190347  0.372043  0.484666   \n",
       "CNH_INGTOTP         0.158271     0.158271   0.158279  0.302750  0.492086   \n",
       "CNRH_INGOCUP        0.147977     0.147977   0.147984  0.324933  0.468806   \n",
       "tipo_num           -0.143024    -0.143024  -0.143021 -0.200942 -0.250537   \n",
       "region_num          0.996592     0.996592   0.996591  0.814938  0.433064   \n",
       "\n",
       "                precio_f  sup_total  sup_util  dormitorios     banos  \\\n",
       "ID_LOCALIDAD    0.042648  -0.004029 -0.011473    -0.079447 -0.034728   \n",
       "ID_DISTRITO     0.042648  -0.004029 -0.011473    -0.079447 -0.034728   \n",
       "ID_COMUNA       0.042659  -0.004028 -0.011473    -0.079442 -0.034719   \n",
       "lat             0.221906   0.000689 -0.008539    -0.067129  0.070009   \n",
       "lng             0.212333  -0.032701 -0.006770    -0.060563  0.023145   \n",
       "precio_f        1.000000   0.021027  0.045418     0.477289  0.657716   \n",
       "sup_total       0.021027   1.000000  0.077481     0.016889  0.025127   \n",
       "sup_util        0.045418   0.077481  1.000000     0.024085  0.033351   \n",
       "dormitorios     0.477289   0.016889  0.024085     1.000000  0.662788   \n",
       "banos           0.657716   0.025127  0.033351     0.662788  1.000000   \n",
       "min_dist_col    0.231694   0.009409  0.025336     0.115584  0.195563   \n",
       "n_col          -0.438404  -0.022117 -0.027073    -0.281859 -0.418114   \n",
       "mean_dist_col  -0.214181  -0.020013 -0.017113    -0.198594 -0.277057   \n",
       "min_dist_farm   0.131531  -0.004834  0.000797     0.205641  0.138890   \n",
       "n_farm         -0.235174  -0.022728 -0.018360    -0.366641 -0.314434   \n",
       "mean_dist_farm -0.103227  -0.026093 -0.016204    -0.177587 -0.209053   \n",
       "RH_PERLLEG4     0.575278  -0.010255  0.013798     0.007377  0.245040   \n",
       "CNV_MONPAGVIVP  0.608036  -0.005384  0.015643     0.069556  0.279292   \n",
       "CNH_INGTOTP     0.597095  -0.013349  0.016373     0.087228  0.280539   \n",
       "CNRH_INGOCUP    0.585936  -0.014302  0.013614     0.005024  0.235786   \n",
       "tipo_num        0.174801   0.026539  0.014020     0.521529  0.309648   \n",
       "region_num      0.035201  -0.007584 -0.012764    -0.097251 -0.054006   \n",
       "\n",
       "                min_dist_col     n_col  mean_dist_col  min_dist_farm  \\\n",
       "ID_LOCALIDAD       -0.043827  0.083855       0.083314      -0.031335   \n",
       "ID_DISTRITO        -0.043827  0.083855       0.083314      -0.031335   \n",
       "ID_COMUNA          -0.043824  0.083845       0.083307      -0.031333   \n",
       "lat                 0.034804 -0.033811       0.024366      -0.049066   \n",
       "lng                 0.071639  0.035161       0.175352       0.045340   \n",
       "precio_f            0.231694 -0.438404      -0.214181       0.131531   \n",
       "sup_total           0.009409 -0.022117      -0.020013      -0.004834   \n",
       "sup_util            0.025336 -0.027073      -0.017113       0.000797   \n",
       "dormitorios         0.115584 -0.281859      -0.198594       0.205641   \n",
       "banos               0.195563 -0.418114      -0.277057       0.138890   \n",
       "min_dist_col        1.000000 -0.499117       0.733215       0.050782   \n",
       "n_col              -0.499117  1.000000       0.464415      -0.169217   \n",
       "mean_dist_col       0.733215  0.464415       1.000000      -0.057581   \n",
       "min_dist_farm       0.050782 -0.169217      -0.057581       1.000000   \n",
       "n_farm             -0.178991  0.504104       0.330974      -0.503909   \n",
       "mean_dist_farm     -0.121124  0.378802       0.398599       0.800531   \n",
       "RH_PERLLEG4         0.173820 -0.255033       0.002924      -0.012218   \n",
       "CNV_MONPAGVIVP      0.230394 -0.305213      -0.003378       0.044283   \n",
       "CNH_INGTOTP         0.230022 -0.291496       0.013998       0.077895   \n",
       "CNRH_INGOCUP        0.198080 -0.229925       0.052042      -0.008216   \n",
       "tipo_num            0.089389 -0.313019      -0.288439       0.289629   \n",
       "region_num         -0.049021  0.109301       0.114220      -0.039423   \n",
       "\n",
       "                  n_farm  mean_dist_farm  RH_PERLLEG4  CNV_MONPAGVIVP  \\\n",
       "ID_LOCALIDAD    0.102756        0.112890     0.144406        0.190338   \n",
       "ID_DISTRITO     0.102756        0.112890     0.144406        0.190338   \n",
       "ID_COMUNA       0.102750        0.112884     0.144414        0.190347   \n",
       "lat             0.102805        0.104812     0.330965        0.372043   \n",
       "lng             0.106933        0.201907     0.358508        0.484666   \n",
       "precio_f       -0.235174       -0.103227     0.575278        0.608036   \n",
       "sup_total      -0.022728       -0.026093    -0.010255       -0.005384   \n",
       "sup_util       -0.018360       -0.016204     0.013798        0.015643   \n",
       "dormitorios    -0.366641       -0.177587     0.007377        0.069556   \n",
       "banos          -0.314434       -0.209053     0.245040        0.279292   \n",
       "min_dist_col   -0.178991       -0.121124     0.173820        0.230394   \n",
       "n_col           0.504104        0.378802    -0.255033       -0.305213   \n",
       "mean_dist_col   0.330974        0.398599     0.002924       -0.003378   \n",
       "min_dist_farm  -0.503909        0.800531    -0.012218        0.044283   \n",
       "n_farm          1.000000        0.426117     0.087771       -0.009976   \n",
       "mean_dist_farm  0.426117        1.000000     0.154130        0.115865   \n",
       "RH_PERLLEG4     0.087771        0.154130     1.000000        0.730360   \n",
       "CNV_MONPAGVIVP -0.009976        0.115865     0.730360        1.000000   \n",
       "CNH_INGTOTP    -0.039529        0.116171     0.727482        0.941016   \n",
       "CNRH_INGOCUP    0.097737        0.169406     0.820745        0.912848   \n",
       "tipo_num       -0.531591       -0.322214    -0.346592       -0.248334   \n",
       "region_num      0.132418        0.143642     0.158969        0.210382   \n",
       "\n",
       "                CNH_INGTOTP  CNRH_INGOCUP  tipo_num  region_num  \n",
       "ID_LOCALIDAD       0.158271      0.147977 -0.143024    0.996592  \n",
       "ID_DISTRITO        0.158271      0.147977 -0.143024    0.996592  \n",
       "ID_COMUNA          0.158279      0.147984 -0.143021    0.996591  \n",
       "lat                0.302750      0.324933 -0.200942    0.814938  \n",
       "lng                0.492086      0.468806 -0.250537    0.433064  \n",
       "precio_f           0.597095      0.585936  0.174801    0.035201  \n",
       "sup_total         -0.013349     -0.014302  0.026539   -0.007584  \n",
       "sup_util           0.016373      0.013614  0.014020   -0.012764  \n",
       "dormitorios        0.087228      0.005024  0.521529   -0.097251  \n",
       "banos              0.280539      0.235786  0.309648   -0.054006  \n",
       "min_dist_col       0.230022      0.198080  0.089389   -0.049021  \n",
       "n_col             -0.291496     -0.229925 -0.313019    0.109301  \n",
       "mean_dist_col      0.013998      0.052042 -0.288439    0.114220  \n",
       "min_dist_farm      0.077895     -0.008216  0.289629   -0.039423  \n",
       "n_farm            -0.039529      0.097737 -0.531591    0.132418  \n",
       "mean_dist_farm     0.116171      0.169406 -0.322214    0.143642  \n",
       "RH_PERLLEG4        0.727482      0.820745 -0.346592    0.158969  \n",
       "CNV_MONPAGVIVP     0.941016      0.912848 -0.248334    0.210382  \n",
       "CNH_INGTOTP        1.000000      0.948146 -0.216881    0.179590  \n",
       "CNRH_INGOCUP       0.948146      1.000000 -0.354126    0.169555  \n",
       "tipo_num          -0.216881     -0.354126  1.000000   -0.178036  \n",
       "region_num         0.179590      0.169555 -0.178036    1.000000  "
      ]
     },
     "metadata": {},
     "output_type": "display_data"
    }
   ],
   "source": [
    "corr_matrix = df.corr()\n",
    "display(corr_matrix)"
   ]
  },
  {
   "cell_type": "markdown",
   "id": "ad5bc320",
   "metadata": {},
   "source": [
    "### 3.2.2 \n",
    "PCA (análisis de componentes principales)\n"
   ]
  },
  {
   "cell_type": "markdown",
   "id": "3a780ec4",
   "metadata": {},
   "source": [
    "Por medio del método PCA, podemos ver algo interesante, y es que nos dice que con 1 componente principal se puede explicar el 97,8% de todos los datos. Esto es importante, debido a que nos otorga información sobre cómo están descritos los datos, y para este caso, todas las columnas nos entregan datos distribuidos de la misma forma. Si bien esto nos otorga un poco más de libertad para eliminar más columnas con datos sin afectar en la predicción, siguiendo con el mismo argumento mencionado anteriormente, podría existir causalidad entre el precio y alguna variable que se quiera eliminar. Por lo que nos quedaremos con la muestra con datos mencionada en 3.1"
   ]
  },
  {
   "cell_type": "code",
   "execution_count": 30,
   "id": "c43e5937",
   "metadata": {},
   "outputs": [
    {
     "data": {
      "text/plain": [
       "array([9.78772149e-01, 2.12264553e-02, 1.36281185e-06, 2.83325193e-08,\n",
       "       3.26003893e-09, 1.52101321e-09, 6.00646931e-11, 4.55879287e-11,\n",
       "       3.22252828e-12, 1.31995884e-13, 9.97011770e-14, 1.45472304e-14,\n",
       "       1.08776984e-14, 9.60005655e-18, 5.87009110e-18, 1.81522616e-18,\n",
       "       5.52289889e-19, 1.64569072e-19, 4.15277112e-21, 7.06991285e-23,\n",
       "       4.32778611e-23, 2.50677274e-23])"
      ]
     },
     "metadata": {},
     "output_type": "display_data"
    }
   ],
   "source": [
    "df_new = df[np.isfinite(df).all(1)]\n",
    "pca = PCA(n_components=22)\n",
    "pca.fit(df_new)\n",
    "display(pca.explained_variance_ratio_)"
   ]
  },
  {
   "cell_type": "markdown",
   "id": "23dfcbc1",
   "metadata": {},
   "source": [
    "### 3.3\n",
    "Estrategia de validación: Las estrategias para validar nuestra muestra fueron mencionadas en 2.3, 3.1 y 3.2: se eliminaron las columnas que poseían en su mayoría valores NaN, ya que no aportaban información al problema ('antiguedad' y 'bogedas'). Se eliminó 'descripcion' debido a que no se posee información para verificar la validez de ese texto. También se cambiaron las variables categóricas 'tipo' y 'region' por numéricas y se eliminaron las variables categóricas. Finalmente se elimino 'direccion' debido a que está contenida en de forma numérica en las columnas ID_LOCALIDAD, ID_DISTRITO, ID_COMUNA, lat y lng. 'direccion' se pudo haber pasado a dummy, pero si se hacía eso, no se podría haber obtenido la información en la matriz de correlacion ni haber usado PCA, debido a que estos dos métodos perderían interpretabilidad. Se decidió no eliminar más columnas porque se podría perder causalidad entre el precio y alguna otra variable, afectando la predicción final."
   ]
  },
  {
   "cell_type": "markdown",
   "id": "206a25b6",
   "metadata": {},
   "source": [
    "## 4. Estimación de modelo\n",
    "\n",
    "Elección de la metodología de modelamiento y su razón. Estimar el modelo\n"
   ]
  },
  {
   "cell_type": "markdown",
   "id": "f74f8176",
   "metadata": {},
   "source": [
    "### 4.1 \n",
    "\n",
    "Debido a que el objetivo es predecir precios (problema de regresión) y no clasificarlos, usaremos modelos de regresión y veremos cuál de estos modelos tiene un mejor rendimiento, para luego quedarnos con el mejor para nuestro conjunto de datos según nuestra métrica de error.  Dentro de todos los posibles modelos, elegiremos un modelo de clasificación lineal, debido a que la matriz de correlacion nos confirma linealidad entre las variables y otros modelos de ensemble. La columna a predecir es 'precio_f' y se dividirán los datos entre un 80% de datos de entrenamiento y un 20% de datos de test o prueba. Además se puso un valor numérico en \"random_state\" para tener resultados reproducibles.Quedando de la siguiente manera:"
   ]
  },
  {
   "cell_type": "code",
   "execution_count": 31,
   "id": "6c661a87",
   "metadata": {},
   "outputs": [],
   "source": [
    "from sklearn.model_selection import train_test_split\n",
    "\n",
    "Y= df_new.iloc[:,5]\n",
    "x=df_new.iloc[:,df_new.columns !='precio_f']\n",
    "X_train,X_test,y_train,y_test= train_test_split(x,Y, test_size=0.2, random_state=40)"
   ]
  },
  {
   "cell_type": "markdown",
   "id": "2c8bd859",
   "metadata": {},
   "source": [
    "### 4.2\n",
    "Se cargan las librerías junto con los modelos de regresión y luego se evaluará cuál de los modelos tuvo mejor rendimiento (se optó por un conjunto de modelos debido a que cada conjunto de datos es distinto, por lo que usar un repertorio de modelos para ver cuál tuvo mejor rendimiento, es mejor que probar sólo con 1 modelo)."
   ]
  },
  {
   "cell_type": "code",
   "execution_count": 32,
   "id": "8615a569",
   "metadata": {},
   "outputs": [],
   "source": [
    "from sklearn.linear_model import LinearRegression\n",
    "from xgboost.sklearn import XGBRegressor\n",
    "from sklearn.ensemble import GradientBoostingRegressor\n",
    "from lightgbm import LGBMRegressor"
   ]
  },
  {
   "cell_type": "markdown",
   "id": "792455d2",
   "metadata": {},
   "source": [
    "### 4.2.1 \n",
    "Modelo: LinearRegression"
   ]
  },
  {
   "cell_type": "code",
   "execution_count": 33,
   "id": "daedead8",
   "metadata": {},
   "outputs": [
    {
     "data": {
      "text/plain": [
       "LinearRegression()"
      ]
     },
     "execution_count": 33,
     "metadata": {},
     "output_type": "execute_result"
    }
   ],
   "source": [
    "regressor= LinearRegression()\n",
    "regressor.fit(X_train,y_train)"
   ]
  },
  {
   "cell_type": "markdown",
   "id": "2bd40f59",
   "metadata": {},
   "source": [
    "### 4.2.2\n",
    "Modelo: GradientBoostingRegressor"
   ]
  },
  {
   "cell_type": "code",
   "execution_count": 34,
   "id": "82311d79",
   "metadata": {},
   "outputs": [
    {
     "data": {
      "text/plain": [
       "GradientBoostingRegressor()"
      ]
     },
     "execution_count": 34,
     "metadata": {},
     "output_type": "execute_result"
    }
   ],
   "source": [
    "gbr= GradientBoostingRegressor()\n",
    "gbr.fit(X_train,y_train)"
   ]
  },
  {
   "cell_type": "markdown",
   "id": "51711d1e",
   "metadata": {},
   "source": [
    "### 4.2.3\n",
    "Modelo: XGBRegressor"
   ]
  },
  {
   "cell_type": "code",
   "execution_count": 35,
   "id": "5002211a",
   "metadata": {},
   "outputs": [
    {
     "data": {
      "text/plain": [
       "XGBRegressor(base_score=None, booster=None, callbacks=None,\n",
       "             colsample_bylevel=None, colsample_bynode=None,\n",
       "             colsample_bytree=None, early_stopping_rounds=None,\n",
       "             enable_categorical=False, eval_metric=None, feature_types=None,\n",
       "             gamma=None, gpu_id=None, grow_policy=None, importance_type=None,\n",
       "             interaction_constraints=None, learning_rate=None, max_bin=None,\n",
       "             max_cat_threshold=None, max_cat_to_onehot=None,\n",
       "             max_delta_step=None, max_depth=None, max_leaves=None,\n",
       "             min_child_weight=None, missing=nan, monotone_constraints=None,\n",
       "             n_estimators=100, n_jobs=None, num_parallel_tree=None,\n",
       "             predictor=None, random_state=None, ...)"
      ]
     },
     "execution_count": 35,
     "metadata": {},
     "output_type": "execute_result"
    }
   ],
   "source": [
    "xgb= XGBRegressor()\n",
    "xgb.fit(X_train,y_train)"
   ]
  },
  {
   "cell_type": "markdown",
   "id": "d794b5d0",
   "metadata": {},
   "source": [
    "### 4.2.4\n",
    "Modelo: LGBMRegressor"
   ]
  },
  {
   "cell_type": "code",
   "execution_count": 36,
   "id": "df9cc341",
   "metadata": {},
   "outputs": [
    {
     "data": {
      "text/plain": [
       "LGBMRegressor()"
      ]
     },
     "execution_count": 36,
     "metadata": {},
     "output_type": "execute_result"
    }
   ],
   "source": [
    "lgb= LGBMRegressor()\n",
    "lgb.fit(X_train,y_train)"
   ]
  },
  {
   "cell_type": "markdown",
   "id": "030bda33",
   "metadata": {},
   "source": [
    "\n",
    "## 5. Evaluación del modelo\n",
    "\n",
    "Elección de las métricas a utilizar para evaluar el rendimiento del modelo asi como la justificación de la elección de métricas utilizadas.\n"
   ]
  },
  {
   "cell_type": "markdown",
   "id": "36cdea1d",
   "metadata": {},
   "source": [
    "### 5.1.1\n",
    "Las métricas escogidsa fueron R2 y explained variance score: la primera muestra qué tan bien los datos se ajustan a una curva o línea, y la segunda nos dice qué tanta varianza hay entre el valor real y que se predice, en este caso se esperan valores cercanos a 1 para mejores predicciones. Se escogieron estas métricas porque es un problema de regresión. Ahora se carga la métrica r2_score y luego explained variance score, y luego ver el error en los modelos:"
   ]
  },
  {
   "cell_type": "markdown",
   "id": "f5396ee7",
   "metadata": {},
   "source": [
    "Métrica R2"
   ]
  },
  {
   "cell_type": "code",
   "execution_count": 37,
   "id": "85e5a830",
   "metadata": {},
   "outputs": [],
   "source": [
    "from sklearn.metrics import r2_score"
   ]
  },
  {
   "cell_type": "code",
   "execution_count": 38,
   "id": "98e7ac28",
   "metadata": {},
   "outputs": [
    {
     "data": {
      "text/plain": [
       "'El valor de la métrica r2_score para LinearRegression es: 0.745'"
      ]
     },
     "execution_count": 38,
     "metadata": {},
     "output_type": "execute_result"
    }
   ],
   "source": [
    "y_pred_lr=regressor.predict(X_test)\n",
    "f\"El valor de la métrica r2_score para LinearRegression es: {r2_score(y_test, y_pred_lr):.3}\" "
   ]
  },
  {
   "cell_type": "code",
   "execution_count": 39,
   "id": "ba5d2dd9",
   "metadata": {},
   "outputs": [
    {
     "data": {
      "text/plain": [
       "'Por lo que el error para LinearRegression es: 0.255'"
      ]
     },
     "execution_count": 39,
     "metadata": {},
     "output_type": "execute_result"
    }
   ],
   "source": [
    "f\"Por lo que el error para LinearRegression es: {1-r2_score(y_test, y_pred_lr):.3}\" "
   ]
  },
  {
   "cell_type": "code",
   "execution_count": 40,
   "id": "24e2ebb6",
   "metadata": {},
   "outputs": [
    {
     "data": {
      "text/plain": [
       "'El valor de la métrica r2_score para GradientBoostingRegressor es: 0.899'"
      ]
     },
     "execution_count": 40,
     "metadata": {},
     "output_type": "execute_result"
    }
   ],
   "source": [
    "y_pred_gbr=gbr.predict(X_test)\n",
    "f\"El valor de la métrica r2_score para GradientBoostingRegressor es: {r2_score(y_test, y_pred_gbr):.3}\" "
   ]
  },
  {
   "cell_type": "code",
   "execution_count": 41,
   "id": "e88ed956",
   "metadata": {},
   "outputs": [
    {
     "data": {
      "text/plain": [
       "'Por lo que el error para GradientBoostingRegressor es: 0.101'"
      ]
     },
     "execution_count": 41,
     "metadata": {},
     "output_type": "execute_result"
    }
   ],
   "source": [
    "f\"Por lo que el error para GradientBoostingRegressor es: {1-r2_score(y_test, y_pred_gbr):.3}\" "
   ]
  },
  {
   "cell_type": "code",
   "execution_count": 42,
   "id": "3c8571ae",
   "metadata": {},
   "outputs": [
    {
     "data": {
      "text/plain": [
       "'El valor de la métrica r2_score para XGBRegressor es: 0.92'"
      ]
     },
     "execution_count": 42,
     "metadata": {},
     "output_type": "execute_result"
    }
   ],
   "source": [
    "y_pred_xgb=xgb.predict(X_test)\n",
    "f\"El valor de la métrica r2_score para XGBRegressor es: {r2_score(y_test, y_pred_xgb):.3}\" "
   ]
  },
  {
   "cell_type": "code",
   "execution_count": 43,
   "id": "ead9ebbc",
   "metadata": {},
   "outputs": [
    {
     "data": {
      "text/plain": [
       "'Por lo que el error para XGBRegressor es: 0.0805'"
      ]
     },
     "execution_count": 43,
     "metadata": {},
     "output_type": "execute_result"
    }
   ],
   "source": [
    "f\"Por lo que el error para XGBRegressor es: {1-r2_score(y_test,  y_pred_xgb):.3}\" "
   ]
  },
  {
   "cell_type": "code",
   "execution_count": 44,
   "id": "c7cc85d2",
   "metadata": {},
   "outputs": [
    {
     "data": {
      "text/plain": [
       "'El valor de la métrica r2_score para LGBMRegressor es: 0.915'"
      ]
     },
     "execution_count": 44,
     "metadata": {},
     "output_type": "execute_result"
    }
   ],
   "source": [
    "y_pred_lgb=lgb.predict(X_test)\n",
    "f\"El valor de la métrica r2_score para LGBMRegressor es: {r2_score(y_test, y_pred_lgb):.3}\" "
   ]
  },
  {
   "cell_type": "code",
   "execution_count": 45,
   "id": "16a5e15a",
   "metadata": {},
   "outputs": [
    {
     "data": {
      "text/plain": [
       "'Por lo que el error para LGBMRegressor es: 0.0846'"
      ]
     },
     "execution_count": 45,
     "metadata": {},
     "output_type": "execute_result"
    }
   ],
   "source": [
    "f\"Por lo que el error para LGBMRegressor es: {1-r2_score(y_test,  y_pred_lgb):.3}\" "
   ]
  },
  {
   "cell_type": "markdown",
   "id": "54346f7b",
   "metadata": {},
   "source": [
    "### 5.2.1\n",
    "Métrica R2 ajustado"
   ]
  },
  {
   "cell_type": "code",
   "execution_count": 46,
   "id": "674316f4",
   "metadata": {},
   "outputs": [],
   "source": [
    "from sklearn.metrics import explained_variance_score"
   ]
  },
  {
   "cell_type": "code",
   "execution_count": 47,
   "id": "9d4aa181",
   "metadata": {},
   "outputs": [
    {
     "data": {
      "text/plain": [
       "'El valor de la métrica explained variance score para LinearRegression es: 0.745'"
      ]
     },
     "execution_count": 47,
     "metadata": {},
     "output_type": "execute_result"
    }
   ],
   "source": [
    "f\"El valor de la métrica explained variance score para LinearRegression es: {explained_variance_score(y_test, y_pred_lr):.3}\""
   ]
  },
  {
   "cell_type": "code",
   "execution_count": 48,
   "id": "c2240112",
   "metadata": {},
   "outputs": [
    {
     "data": {
      "text/plain": [
       "'El valor de la métrica explained variance score para GradientBoostingRegressor es: 0.899'"
      ]
     },
     "execution_count": 48,
     "metadata": {},
     "output_type": "execute_result"
    }
   ],
   "source": [
    "f\"El valor de la métrica explained variance score para GradientBoostingRegressor es: { explained_variance_score(y_test,y_pred_gbr):.3}\""
   ]
  },
  {
   "cell_type": "code",
   "execution_count": 49,
   "id": "b7880911",
   "metadata": {},
   "outputs": [
    {
     "data": {
      "text/plain": [
       "'El valor de la métrica explained variance score para XGBRegressor es: 0.92'"
      ]
     },
     "execution_count": 49,
     "metadata": {},
     "output_type": "execute_result"
    }
   ],
   "source": [
    "f\"El valor de la métrica explained variance score para XGBRegressor es: {explained_variance_score(y_test,y_pred_xgb):.3}\" "
   ]
  },
  {
   "cell_type": "code",
   "execution_count": 50,
   "id": "8800abe0",
   "metadata": {},
   "outputs": [
    {
     "data": {
      "text/plain": [
       "'El valor de la métrica explained variance score paraLGBMRegressor es: 0.915'"
      ]
     },
     "execution_count": 50,
     "metadata": {},
     "output_type": "execute_result"
    }
   ],
   "source": [
    "f\"El valor de la métrica explained variance score paraLGBMRegressor es: {explained_variance_score(y_test,y_pred_lgb):.3}\" "
   ]
  },
  {
   "cell_type": "markdown",
   "id": "d1950a17",
   "metadata": {},
   "source": [
    "Tanto R2 score como explained variance score dan resultados similares debido a que ambos hacen una comparación entre el modelo generado para los datos y el valor real de los datos (estima la varianza)"
   ]
  },
  {
   "cell_type": "markdown",
   "id": "67310199",
   "metadata": {},
   "source": [
    "### 5.2\n",
    "\n",
    "Debido a que según R2 y explained variance score, las métricas de errores dieron a XGBRegressor como mejor modelo para estos datos, ahora usamos el atributo 'feature_importances_' para poder ver la importancia de las variables, debido a que XGBRegressor es un regresor de árboles. De esta manera se puede entender el modelamiento de los datos con XGBRegressor y visualizar cuáles variables considera más importantes.\n"
   ]
  },
  {
   "cell_type": "code",
   "execution_count": 51,
   "id": "28296b27",
   "metadata": {},
   "outputs": [
    {
     "data": {
      "text/plain": [
       "array([0.00460664, 0.        , 0.        , 0.01269339, 0.00614115,\n",
       "       0.05837225, 0.32505235, 0.00546069, 0.0480754 , 0.00284573,\n",
       "       0.00418877, 0.00360465, 0.00412357, 0.00532538, 0.00425154,\n",
       "       0.14227177, 0.3239111 , 0.00608464, 0.03296332, 0.01002761,\n",
       "       0.        ], dtype=float32)"
      ]
     },
     "execution_count": 51,
     "metadata": {},
     "output_type": "execute_result"
    }
   ],
   "source": [
    "xgb.feature_importances_"
   ]
  },
  {
   "cell_type": "code",
   "execution_count": 52,
   "id": "1e26b57a",
   "metadata": {},
   "outputs": [
    {
     "data": {
      "image/png": "[encoded data removed]",
      "text/plain": [
       "<Figure size 1500x1000 with 1 Axes>"
      ]
     },
     "metadata": {},
     "output_type": "display_data"
    }
   ],
   "source": [
    "sorted_idx = xgb.feature_importances_.argsort()\n",
    "plt.figure(figsize=(15,10))\n",
    "plt.barh(df_new.columns[sorted_idx], xgb.feature_importances_[sorted_idx])\n",
    "plt.xlabel(\"Xgboost Feature Importance\")\n",
    "plt.show()"
   ]
  },
  {
   "cell_type": "markdown",
   "id": "93b9470b",
   "metadata": {},
   "source": [
    "### 5.3 \n",
    "Simulación: Una vez elegido el modelo con menor error ( XGBRegressor), se copiaron valores de X_train de tal forma de crear una combinación única de valores, para ponerse en una situación que entren nuevos datos a nuestra base."
   ]
  },
  {
   "cell_type": "code",
   "execution_count": 53,
   "id": "856ef801",
   "metadata": {},
   "outputs": [
    {
     "data": {
      "text/plain": [
       "'La predicción de la simulación de XGBRegressor para el precio es: 1.99e+08, con un error del 8.05% para la métrica R2 y 8.04% para la métrica explained variance score'"
      ]
     },
     "execution_count": 53,
     "metadata": {},
     "output_type": "execute_result"
    }
   ],
   "source": [
    "pred_list=[6101031001,1313202,13108,6303911.66786266,354998.17609585,100.0,96.0,2.0,1.0,252.941960097117,10,612.710078272358,287.329603388256,2,477.67486069375,0.0131719473122108,277600.94,1850549.35,920407.94,1,1]\n",
    "a = np.array(pred_list)\n",
    "a = np.expand_dims(a, 0)\n",
    "\n",
    "xgb.predict(a)\n",
    "f\"La predicción de la simulación de XGBRegressor para el precio es: {xgb.predict(a)[0]:.3}, con un error del {((1-r2_score(y_test,  y_pred_xgb))*100):.3}% para la métrica R2 y {((1-explained_variance_score(y_test,y_pred_xgb))*100):.3}% para la métrica explained variance score\" "
   ]
  },
  {
   "cell_type": "markdown",
   "id": "4c41eeb5",
   "metadata": {},
   "source": [
    "Viendo los resultados de la métrica r2_score y explained variance score, dos modelos fueron los que tuvieron las mejores métricas para este conjunto de datos: XGBRegressor y LGBMRegressor, teniendo un rendimiento levemente superior XGBRegressor."
   ]
  },
  {
   "cell_type": "markdown",
   "id": "99c80278",
   "metadata": {},
   "source": [
    "## 6. Reflexiones finales\n",
    "\n",
    "Reflexiones finales respecto al proceso de modelamiento, potenciales mejoras, bases adicionales interesantes que se podrían ocupar para generar nuevas variables, etc.\n"
   ]
  },
  {
   "cell_type": "markdown",
   "id": "a3634b45",
   "metadata": {},
   "source": [
    "### 6.1\n",
    "\n",
    "Reflexión final: Se comprobó que existe cierta linealidad con la matriz de correlación (aunque también sirve la matriz de covarianza), luego obtener nuestro dataframe con variables numéricas. Se optó por un repertorio de modelos de regresiones debido al contexto del problema, para ver cuál tuvo el mejor rendimiento para el conjunto de datos. Para nuestro caso fué XGBRegressor con un error en el ajuste lineal del 8.05%. Además, se realizó una simulación para un nuevo caso, dando como resultado un precio de  1.99e+08.\n",
    "\n",
    "Como mejoras al trabajo realizado, existen más modelos de regresiones en Python y también en R. Se sugiere siempre leer la documentación de las librerías de machine learning (y deep learning) debido a que los modelos se van actualizando y se van agregando más a las librerías. Otra posible mejora sería tener más datos para la región de Bernardo-Ohiggins, de tal manera que las predicciones para esta región mejoren."
   ]
  }
 ],
 "metadata": {
  "kernelspec": {
   "display_name": "Python 3 (ipykernel)",
   "language": "python",
   "name": "python3"
  },
  "language_info": {
   "codemirror_mode": {
    "name": "ipython",
    "version": 3
   },
   "file_extension": ".py",
   "mimetype": "text/x-python",
   "name": "python",
   "nbconvert_exporter": "python",
   "pygments_lexer": "ipython3",
   "version": "3.10.11"
  }
 },
 "nbformat": 4,
 "nbformat_minor": 5
}
